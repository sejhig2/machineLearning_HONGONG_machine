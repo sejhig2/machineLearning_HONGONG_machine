{
  "nbformat": 4,
  "nbformat_minor": 0,
  "metadata": {
    "colab": {
      "name": "ch2_2.ipynbc",
      "private_outputs": true,
      "provenance": [],
      "collapsed_sections": [],
      "authorship_tag": "ABX9TyOhg9+HjZI7QTJE9AhjwiSp",
      "include_colab_link": true
    },
    "kernelspec": {
      "name": "python3",
      "display_name": "Python 3"
    }
  },
  "cells": [
    {
      "cell_type": "markdown",
      "metadata": {
        "id": "view-in-github",
        "colab_type": "text"
      },
      "source": [
        "<a href=\"https://colab.research.google.com/github/sejhig2/machineLearning_HONGONJA/blob/main/ch2_2_ipynbc.ipynb\" target=\"_parent\"><img src=\"https://colab.research.google.com/assets/colab-badge.svg\" alt=\"Open In Colab\"/></a>"
      ]
    },
    {
      "cell_type": "markdown",
      "metadata": {
        "id": "y7-vjSrgE-x7"
      },
      "source": [
        "## 넘파이로 데이터 준비하기 "
      ]
    },
    {
      "cell_type": "code",
      "metadata": {
        "id": "MTqG6_iIEKGu"
      },
      "source": [
        "fish_length = [25.4, 26.3, 26.5, 29.0, 29.0, 29.7, 29.7, 30.0, 30.0, 30.7, 31.0, 31.0, \r\n",
        "                31.5, 32.0, 32.0, 32.0, 33.0, 33.0, 33.5, 33.5, 34.0, 34.0, 34.5, 35.0, \r\n",
        "                35.0, 35.0, 35.0, 36.0, 36.0, 37.0, 38.5, 38.5, 39.5, 41.0, 41.0, 9.8, \r\n",
        "                10.5, 10.6, 11.0, 11.2, 11.3, 11.8, 11.8, 12.0, 12.2, 12.4, 13.0, 14.3, 15.0]\r\n",
        "fish_weight = [242.0, 290.0, 340.0, 363.0, 430.0, 450.0, 500.0, 390.0, 450.0, 500.0, 475.0, 500.0, \r\n",
        "                500.0, 340.0, 600.0, 600.0, 700.0, 700.0, 610.0, 650.0, 575.0, 685.0, 620.0, 680.0, \r\n",
        "                700.0, 725.0, 720.0, 714.0, 850.0, 1000.0, 920.0, 955.0, 925.0, 975.0, 950.0, 6.7, \r\n",
        "                7.5, 7.0, 9.7, 9.8, 8.7, 10.0, 9.9, 9.8, 12.2, 13.4, 12.2, 19.7, 19.9]"
      ],
      "execution_count": null,
      "outputs": []
    },
    {
      "cell_type": "code",
      "metadata": {
        "id": "cp7hF6_0E9SI"
      },
      "source": [
        "import numpy as np"
      ],
      "execution_count": null,
      "outputs": []
    },
    {
      "cell_type": "code",
      "metadata": {
        "id": "O7lnTIU5FC1j"
      },
      "source": [
        "np.column_stack(([1,2,3],[4,5,6] ))"
      ],
      "execution_count": null,
      "outputs": []
    },
    {
      "cell_type": "code",
      "metadata": {
        "id": "oVOkjE0lFQdY"
      },
      "source": [
        "fish_data = np.column_stack((fish_length,fish_weight))"
      ],
      "execution_count": null,
      "outputs": []
    },
    {
      "cell_type": "code",
      "metadata": {
        "id": "uBRsYUMqFc7O"
      },
      "source": [
        "print(fish_data)"
      ],
      "execution_count": null,
      "outputs": []
    },
    {
      "cell_type": "code",
      "metadata": {
        "id": "7zopT7kFFmg1"
      },
      "source": [
        "# 정답 데이터 만들기\r\n",
        "fish_target = np.concatenate((np.ones(35), np.zeros(14) ))\r\n",
        "print(fish_target)"
      ],
      "execution_count": null,
      "outputs": []
    },
    {
      "cell_type": "markdown",
      "metadata": {
        "id": "NBpr68cTGEp4"
      },
      "source": [
        ""
      ]
    },
    {
      "cell_type": "markdown",
      "metadata": {
        "id": "dlHdpegFGo1j"
      },
      "source": [
        "## 사이킷런으로 훈련 세트와 테스트 세트 나누기"
      ]
    },
    {
      "cell_type": "markdown",
      "metadata": {
        "id": "fqoT1fesGtbs"
      },
      "source": [
        "모델을 만들기 위해 패키지 불러오기 _ 섞기\r\n",
        "\r\n",
        "train_test_split() 함수에는 자체적으로 랜덤 시드를 지정할 수 있는 random_state 매개 변수가 있다."
      ]
    },
    {
      "cell_type": "code",
      "metadata": {
        "id": "9m0CTpRVGrOj"
      },
      "source": [
        "from sklearn.model_selection import train_test_split"
      ],
      "execution_count": null,
      "outputs": []
    },
    {
      "cell_type": "code",
      "metadata": {
        "id": "vX-D9yznGwQk"
      },
      "source": [
        "train_input, test_input, train_target, test_target = train_test_split(fish_data, fish_target, random_state = 42)"
      ],
      "execution_count": null,
      "outputs": []
    },
    {
      "cell_type": "markdown",
      "metadata": {
        "id": "viTIfOnBH_kz"
      },
      "source": [
        "잘 나뉘었는지 확인해보자 "
      ]
    },
    {
      "cell_type": "code",
      "metadata": {
        "id": "XHge2eqtIeMw"
      },
      "source": [
        "print(train_target.shape ,test_target.shape )"
      ],
      "execution_count": null,
      "outputs": []
    },
    {
      "cell_type": "code",
      "metadata": {
        "id": "PNTjzIyIGvJU"
      },
      "source": [
        "print(test_target)"
      ],
      "execution_count": null,
      "outputs": []
    },
    {
      "cell_type": "markdown",
      "metadata": {
        "id": "EjxA0p8aJMWc"
      },
      "source": [
        "35:14 = 2.5:1 이고 자동으로 섞은 결과는  3.3: 1이다. => 조금 덜 섞였다. => 샘플링 편향 조금 발생  "
      ]
    },
    {
      "cell_type": "markdown",
      "metadata": {
        "id": "qFSBy72DJ9-J"
      },
      "source": [
        "비율을 적절하게 섞어보자. "
      ]
    },
    {
      "cell_type": "code",
      "metadata": {
        "id": "kB4oGhPEKB72"
      },
      "source": [
        ""
      ],
      "execution_count": null,
      "outputs": []
    },
    {
      "cell_type": "code",
      "metadata": {
        "id": "CIL6jJyiH-h1"
      },
      "source": [
        "train_input, test_input, train_target, test_target = train_test_split(fish_data, fish_target, stratify = fish_target, random_state = 42)"
      ],
      "execution_count": null,
      "outputs": []
    },
    {
      "cell_type": "code",
      "metadata": {
        "id": "lhXP7dS9J3cX"
      },
      "source": [
        "print(test_target)"
      ],
      "execution_count": null,
      "outputs": []
    },
    {
      "cell_type": "markdown",
      "metadata": {
        "id": "FTuwyvicOaQk"
      },
      "source": [
        "## 수상한 도미 한 마리 "
      ]
    },
    {
      "cell_type": "markdown",
      "metadata": {
        "id": "UBuCtOliOgZe"
      },
      "source": [
        "k-최근접 이웃 알고리즘으로 훈련시켜보자 "
      ]
    },
    {
      "cell_type": "code",
      "metadata": {
        "id": "Mpw1u-7AOkgL"
      },
      "source": [
        "from sklearn.neighbors import KNeighborsClassifier\r\n",
        "kn = KNeighborsClassifier()\r\n",
        "kn.fit(train_input, train_target)\r\n",
        "kn.score(test_input,test_target)"
      ],
      "execution_count": null,
      "outputs": []
    },
    {
      "cell_type": "code",
      "metadata": {
        "id": "pYmqiqjnPCo3"
      },
      "source": [
        "print(kn.predict([[25,150]]) )"
      ],
      "execution_count": null,
      "outputs": []
    },
    {
      "cell_type": "markdown",
      "metadata": {
        "id": "EF3vxQ3QPoBY"
      },
      "source": [
        "당현히 도미로 잘 판단해서 1 이 나올 줄 알았는데 0이 나왔네? 뭐가 문젤까? \r\n",
        "\r\n",
        "산점도를 그려서 살펴보자 "
      ]
    },
    {
      "cell_type": "code",
      "metadata": {
        "id": "Nwr7qC7tQDDU"
      },
      "source": [
        ""
      ],
      "execution_count": null,
      "outputs": []
    },
    {
      "cell_type": "code",
      "metadata": {
        "id": "Bjf3IVz0PsqV"
      },
      "source": [
        "import matplotlib.pyplot as plt\r\n",
        "plt.scatter(train_input[ : ,0], train_input[ : ,1])\r\n",
        "plt.scatter(25,150, marker= '^')\r\n",
        "plt.xlabel('length')\r\n",
        "plt.ylabel('weight')\r\n",
        "plt.show()"
      ],
      "execution_count": null,
      "outputs": []
    },
    {
      "cell_type": "code",
      "metadata": {
        "id": "qqb3nC6LQ8r7"
      },
      "source": [
        "distances, indexes = kn.kneighbors([[25, 150]])"
      ],
      "execution_count": null,
      "outputs": []
    },
    {
      "cell_type": "code",
      "metadata": {
        "id": "Ex5qj6TTRWnH"
      },
      "source": [
        "print(kn.kneighbors([[25, 150]]))"
      ],
      "execution_count": null,
      "outputs": []
    },
    {
      "cell_type": "markdown",
      "metadata": {
        "id": "mEenG_EZXXTn"
      },
      "source": [
        "이웃 샘플을 따로 구분해서 그려보자 "
      ]
    },
    {
      "cell_type": "code",
      "metadata": {
        "id": "AHHqCxb7RGEp"
      },
      "source": [
        "import matplotlib.pyplot as plt\r\n",
        "plt.scatter(train_input[ : ,0], train_input[ : ,1])\r\n",
        "plt.scatter(25,150, marker = '^')\r\n",
        "plt.scatter(train_input[indexes,0], train_input[indexes ,1], marker = 'D')\r\n",
        "plt.xlabel('length')\r\n",
        "plt.ylabel('weight')\r\n",
        "plt.show()"
      ],
      "execution_count": null,
      "outputs": []
    },
    {
      "cell_type": "markdown",
      "metadata": {
        "id": "s4g6edl7WUcf"
      },
      "source": [
        "산점도를 보면 직관적으로 도미에 가깝게 보이는데 왜 빙어라고 하는걸까? \r\n",
        "\r\n",
        "보기에 가까운 것 말고, x,y좌표의 스케일을 봐라. 기준이 다르다 "
      ]
    },
    {
      "cell_type": "code",
      "metadata": {
        "id": "0_elh1pnWg2V"
      },
      "source": [
        "# 가장 가까운 생선은 무엇인지 보자\r\n",
        "print(train_target[indexes])"
      ],
      "execution_count": null,
      "outputs": []
    },
    {
      "cell_type": "code",
      "metadata": {
        "id": "-ZqTFLfQWmPc"
      },
      "source": [
        "print(distances)"
      ],
      "execution_count": null,
      "outputs": []
    },
    {
      "cell_type": "markdown",
      "metadata": {
        "id": "AObGMX-8W9mK"
      },
      "source": [
        ""
      ]
    },
    {
      "cell_type": "markdown",
      "metadata": {
        "id": "3ylNfwrwXaX-"
      },
      "source": [
        "## 기준을 맞춰라!"
      ]
    },
    {
      "cell_type": "code",
      "metadata": {
        "id": "RkD4FtXlWEcY"
      },
      "source": [
        "import matplotlib.pyplot as plt\r\n",
        "plt.scatter(train_input[ : ,0], train_input[ : ,1])\r\n",
        "plt.scatter(25,150, marker = '^')\r\n",
        "plt.scatter(train_input[indexes,0], train_input[indexes ,1], marker = 'D')\r\n",
        "plt.xlim((0,1000))\r\n",
        "plt.xlabel('length')\r\n",
        "plt.ylabel('weight')\r\n",
        "plt.show()"
      ],
      "execution_count": null,
      "outputs": []
    },
    {
      "cell_type": "markdown",
      "metadata": {
        "id": "86Kfp2lqcQuO"
      },
      "source": [
        "표준 점수와 표준 편차"
      ]
    },
    {
      "cell_type": "code",
      "metadata": {
        "id": "Ja2_7FgZV50L"
      },
      "source": [
        "mean = np.mean(train_input, axis = 0)\r\n",
        "std = np.std(train_input, axis = 0)"
      ],
      "execution_count": null,
      "outputs": []
    },
    {
      "cell_type": "code",
      "metadata": {
        "id": "JiKfpRCKRaD7"
      },
      "source": [
        "print(mean, std)"
      ],
      "execution_count": null,
      "outputs": []
    },
    {
      "cell_type": "code",
      "metadata": {
        "id": "7uwYlfSPQ7A5"
      },
      "source": [
        "train_scaled = (train_input - mean) / std\r\n",
        "print(train_scaled)"
      ],
      "execution_count": null,
      "outputs": []
    },
    {
      "cell_type": "markdown",
      "metadata": {
        "id": "knY_-k_8fL0-"
      },
      "source": [
        "## 전처리 데이터로 모델 훈련하기 "
      ]
    },
    {
      "cell_type": "code",
      "metadata": {
        "id": "I5cUyaJ_Pl6j"
      },
      "source": [
        "plt.scatter(train_scaled[ : ,0], train_scaled[ : ,1])\r\n",
        "plt.scatter(25,150, marker = '^')\r\n",
        "plt.xlabel('length')\r\n",
        "plt.ylabel('weight')\r\n",
        "plt.show()"
      ],
      "execution_count": null,
      "outputs": []
    },
    {
      "cell_type": "markdown",
      "metadata": {
        "id": "-1s7C2yYfyd_"
      },
      "source": [
        "동일한 기준으로 샘플을 변환하고 다시 산점도를 그려보자 "
      ]
    },
    {
      "cell_type": "code",
      "metadata": {
        "id": "aRujBGCSPeYF"
      },
      "source": [
        "new = ([25,150]- mean) / std\r\n",
        "plt.scatter(train_scaled[ : ,0], train_scaled[ : ,1])\r\n",
        "plt.scatter(new[0],new[1], marker = '^')\r\n",
        "plt.xlabel('length')\r\n",
        "plt.ylabel('weight')\r\n",
        "plt.show()"
      ],
      "execution_count": null,
      "outputs": []
    },
    {
      "cell_type": "markdown",
      "metadata": {
        "id": "YTR3etk0geZg"
      },
      "source": [
        "스케일을 맞췄으니 다시 훈련을 시켜보자! "
      ]
    },
    {
      "cell_type": "code",
      "metadata": {
        "id": "x7hnBSzSPYyC"
      },
      "source": [
        "kn.fit(train_scaled , train_target)"
      ],
      "execution_count": null,
      "outputs": []
    },
    {
      "cell_type": "markdown",
      "metadata": {
        "id": "5Puv3xQehjnC"
      },
      "source": [
        "테스트할 자료도 스케일 맞춰주고 평가해보자 "
      ]
    },
    {
      "cell_type": "code",
      "metadata": {
        "id": "e_QQDRx1PVYX"
      },
      "source": [
        "test_scaled = (test_input - mean)/std"
      ],
      "execution_count": null,
      "outputs": []
    },
    {
      "cell_type": "code",
      "metadata": {
        "id": "8GvB-6ZCOjRk"
      },
      "source": [
        "kn.score(test_scaled , test_target)"
      ],
      "execution_count": null,
      "outputs": []
    },
    {
      "cell_type": "code",
      "metadata": {
        "id": "-B15yN51Bvof"
      },
      "source": [
        "print(kn.predict([new]))"
      ],
      "execution_count": null,
      "outputs": []
    },
    {
      "cell_type": "markdown",
      "metadata": {
        "id": "a8bVL5VZhwDa"
      },
      "source": [
        "kneighbors() 함수로 샘플의 k-최근접 이웃을 구한 다음 산점도를 그려보자 "
      ]
    },
    {
      "cell_type": "code",
      "metadata": {
        "id": "qLLf6nRrObsf"
      },
      "source": [
        "distance, index = kn.kneighbors([new])\r\n",
        "plt.scatter(train_scaled[:,0], train_scaled[:,1])\r\n",
        "plt.scatter(new[0] , new[1], marker = '^')\r\n",
        "plt.scatter(train_scaled[indexes,0], train_scaled[indexes,1], marker = 'D')\r\n",
        "plt.xlabel('length')\r\n",
        "plt.ylabel('weight')\r\n",
        "plt.show()"
      ],
      "execution_count": null,
      "outputs": []
    },
    {
      "cell_type": "markdown",
      "metadata": {
        "id": "3SF4tm7Si0Bj"
      },
      "source": [
        "## 문제해결 과정 ) 스케일이 다른 특성 처리 "
      ]
    },
    {
      "cell_type": "code",
      "metadata": {
        "id": "Pb_kvkUHJcZU"
      },
      "source": [
        ""
      ],
      "execution_count": null,
      "outputs": []
    }
  ]
}