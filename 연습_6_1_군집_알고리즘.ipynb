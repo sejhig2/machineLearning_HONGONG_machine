{
  "nbformat": 4,
  "nbformat_minor": 0,
  "metadata": {
    "colab": {
      "name": "연습_6-1 군집 알고리즘.ipynb",
      "private_outputs": true,
      "provenance": [],
      "authorship_tag": "ABX9TyPysid3nPS41QPo8YN1X5F1",
      "include_colab_link": true
    },
    "kernelspec": {
      "name": "python3",
      "display_name": "Python 3"
    },
    "accelerator": "GPU"
  },
  "cells": [
    {
      "cell_type": "markdown",
      "metadata": {
        "id": "view-in-github",
        "colab_type": "text"
      },
      "source": [
        "<a href=\"https://colab.research.google.com/github/sejhig2/machineLearning_HONGONG_machine_propeller/blob/main/%EC%97%B0%EC%8A%B5_6_1_%EA%B5%B0%EC%A7%91_%EC%95%8C%EA%B3%A0%EB%A6%AC%EC%A6%98.ipynb\" target=\"_parent\"><img src=\"https://colab.research.google.com/assets/colab-badge.svg\" alt=\"Open In Colab\"/></a>"
      ]
    },
    {
      "cell_type": "code",
      "metadata": {
        "id": "04LoZJMI7niM"
      },
      "source": [
        "#코랩으로 데이터 다운받기"
      ],
      "execution_count": null,
      "outputs": []
    },
    {
      "cell_type": "code",
      "metadata": {
        "id": "RTJ9yuogOQOw"
      },
      "source": [
        "!wget https://bit.ly/fruits_300_data -O fruits_300.npy"
      ],
      "execution_count": null,
      "outputs": []
    },
    {
      "cell_type": "code",
      "metadata": {
        "id": "YmIRw4xLOS7x"
      },
      "source": [
        "import numpy as np\r\n",
        "import matplotlib.pyplot as plt"
      ],
      "execution_count": null,
      "outputs": []
    },
    {
      "cell_type": "code",
      "metadata": {
        "id": "D_KLpFE6ObNv"
      },
      "source": [
        "fruits = np.load('fruits_300.npy')"
      ],
      "execution_count": null,
      "outputs": []
    },
    {
      "cell_type": "code",
      "metadata": {
        "id": "RM-3pMRAOigf"
      },
      "source": [
        "print(fruits.shape)"
      ],
      "execution_count": null,
      "outputs": []
    },
    {
      "cell_type": "code",
      "metadata": {
        "id": "htQeSyeSOgEa"
      },
      "source": [
        "print(fruits[:,:,:])"
      ],
      "execution_count": null,
      "outputs": []
    },
    {
      "cell_type": "code",
      "metadata": {
        "id": "ZeE4-mwZPPeZ"
      },
      "source": [
        "# 넘파이 배열로 이미지를 그릴 수 있다\r\n",
        "plt.imshow(fruits[0],cmap='gray')\r\n",
        "plt.show()"
      ],
      "execution_count": null,
      "outputs": []
    },
    {
      "cell_type": "code",
      "metadata": {
        "id": "8t5o8iaoPsIy"
      },
      "source": [
        "plt.imshow(fruits[0,:,:],cmap='gray')\r\n",
        "plt.show()"
      ],
      "execution_count": null,
      "outputs": []
    },
    {
      "cell_type": "code",
      "metadata": {
        "id": "I01lIEiNPxkC"
      },
      "source": [
        "plt.imshow(fruits[0,:,:])\r\n",
        "plt.show()"
      ],
      "execution_count": null,
      "outputs": []
    },
    {
      "cell_type": "code",
      "metadata": {
        "id": "jItTwhDgPv-I"
      },
      "source": [
        "fig, axs = plt.subplots(1,3)\r\n",
        "axs[0].imshow(fruits[100,:,:], cmap='gray_r')\r\n",
        "axs[1].imshow(fruits[200], cmap='gray_r')\r\n",
        "axs[2].imshow(fruits[250,:,:],cmap='gray_r')\r\n",
        "plt.show()"
      ],
      "execution_count": null,
      "outputs": []
    },
    {
      "cell_type": "code",
      "metadata": {
        "id": "MeWh5yCzSBiQ"
      },
      "source": [
        "apple= fruits[0:100].reshape(-1,100*100)\r\n",
        "pineapple = fruits[101:200].reshape(-1, 100*100)\r\n",
        "banana = fruits[201:300].reshape(-1, 100*100)\r\n",
        "print(apple.shape)"
      ],
      "execution_count": null,
      "outputs": []
    },
    {
      "cell_type": "code",
      "metadata": {
        "id": "756b7sPkT6sM"
      },
      "source": [
        "print(apple.mean(axis=1).shape)"
      ],
      "execution_count": null,
      "outputs": []
    },
    {
      "cell_type": "code",
      "metadata": {
        "id": "w4gPlYV0RyQw"
      },
      "source": [
        "#히스토그램을 그려보자\r\n",
        "plt.hist(np.mean(apple, axis=1), alpha=0.8)\r\n",
        "plt.hist(np.mean(pineapple, axis=1), alpha=0.8)\r\n",
        "plt.hist(np.mean(banana, axis=1), alpha=0.8)\r\n",
        "plt.legend(['APPLE','PINEAPPLE','BANANA'])\r\n",
        "plt.show"
      ],
      "execution_count": null,
      "outputs": []
    },
    {
      "cell_type": "code",
      "metadata": {
        "id": "iZknGC7bVCRf"
      },
      "source": [
        "#필셀별로 어떤 분포를 가지는지 알아보자-> 사진이 어느 영역에 그려져있는지 경향을 알 수 있을 것\r\n",
        "fig, axs = plt.subplots(1,3, figsize=(20,5))\r\n",
        "axs[0].bar(range(10000),np.mean(apple, axis = 0))\r\n",
        "axs[1].bar(range(10000),np.mean(pineapple, axis = 0))\r\n",
        "axs[2].bar(range(10000),np.mean(banana, axis = 0))\r\n",
        "plt.show()"
      ],
      "execution_count": null,
      "outputs": []
    },
    {
      "cell_type": "code",
      "metadata": {
        "id": "mvrQtBdZXUt7"
      },
      "source": [
        "apple_mean = np.mean(apple, axis = 0).reshape(100,100) #각 픽셀의 평균 axis = 0\r\n",
        "pineapple_mean = np.mean(pineapple, axis = 0).reshape(100,100)\r\n",
        "banana_mean = np.mean(banana, axis = 0).reshape(100,100)\r\n",
        "\r\n",
        "fig, axs = plt.subplots(1,3, figsize=(20,5))\r\n",
        "axs[0].imshow(apple_mean, cmap='gray_r')\r\n",
        "axs[1].imshow(pineapple_mean, cmap='gray_r')\r\n",
        "axs[2].imshow(banana_mean,cmap='gray_r')\r\n",
        "plt.show()"
      ],
      "execution_count": null,
      "outputs": []
    },
    {
      "cell_type": "code",
      "metadata": {
        "id": "TxDEycqIX1NX"
      },
      "source": [
        "abs_diff = np.abs(fruits - apple_mean) #사진 - 사과의 평균값 -> 배열만들기\r\n",
        "abs_mean = np.mean(abs_diff, axis=(1,2)) # \r\n",
        "print(abs_mean.shape)"
      ],
      "execution_count": null,
      "outputs": []
    },
    {
      "cell_type": "code",
      "metadata": {
        "id": "tPr3zZl-XKgb"
      },
      "source": [
        "apple_index = np.argsort(abs_mean)[:100] #오른 차순으로 정렬한 후, 0~99번째까지 불러오기\r\n",
        "fig, axs = plt.subplots(10,10, figsize=(10,10))\r\n",
        "for i in range(10):\r\n",
        "    for j in range(10):\r\n",
        "        axs[i,j].imshow(fruits[apple_index[i*10+j]],cmap= 'gray_r')\r\n",
        "        axs[i,j].axis('off')\r\n",
        "plt.show()"
      ],
      "execution_count": null,
      "outputs": []
    },
    {
      "cell_type": "code",
      "metadata": {
        "id": "yKeFPUAuU3Ox"
      },
      "source": [
        ""
      ],
      "execution_count": null,
      "outputs": []
    },
    {
      "cell_type": "code",
      "metadata": {
        "id": "JZ6riDwSRi3w"
      },
      "source": [
        ""
      ],
      "execution_count": null,
      "outputs": []
    },
    {
      "cell_type": "code",
      "metadata": {
        "id": "1l-PDi0LRg71"
      },
      "source": [
        ""
      ],
      "execution_count": null,
      "outputs": []
    },
    {
      "cell_type": "code",
      "metadata": {
        "id": "a5YH2yw0Resv"
      },
      "source": [
        ""
      ],
      "execution_count": null,
      "outputs": []
    },
    {
      "cell_type": "code",
      "metadata": {
        "id": "B4MerHi4RdGH"
      },
      "source": [
        ""
      ],
      "execution_count": null,
      "outputs": []
    },
    {
      "cell_type": "code",
      "metadata": {
        "id": "IGA6QnToPIv7"
      },
      "source": [
        ""
      ],
      "execution_count": null,
      "outputs": []
    },
    {
      "cell_type": "code",
      "metadata": {
        "id": "OSPrqbLCPiYI"
      },
      "source": [
        ""
      ],
      "execution_count": null,
      "outputs": []
    }
  ]
}