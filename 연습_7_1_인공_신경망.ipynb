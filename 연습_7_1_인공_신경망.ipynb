{
  "nbformat": 4,
  "nbformat_minor": 0,
  "metadata": {
    "colab": {
      "name": "연습_7-1 인공 신경망.ipynb",
      "private_outputs": true,
      "provenance": [],
      "collapsed_sections": [],
      "authorship_tag": "ABX9TyO11OPIsPbGWs+WnpPoS394",
      "include_colab_link": true
    },
    "kernelspec": {
      "name": "python3",
      "display_name": "Python 3"
    }
  },
  "cells": [
    {
      "cell_type": "markdown",
      "metadata": {
        "id": "view-in-github",
        "colab_type": "text"
      },
      "source": [
        "<a href=\"https://colab.research.google.com/github/sejhig2/machineLearning_HONGONG_machine_propeller/blob/main/%EC%97%B0%EC%8A%B5_7_1_%EC%9D%B8%EA%B3%B5_%EC%8B%A0%EA%B2%BD%EB%A7%9D.ipynb\" target=\"_parent\"><img src=\"https://colab.research.google.com/assets/colab-badge.svg\" alt=\"Open In Colab\"/></a>"
      ]
    },
    {
      "cell_type": "markdown",
      "metadata": {
        "id": "4a3Kv8OKEVPX"
      },
      "source": [
        "인공 신경망 알고리즘\r\n",
        "로지스틱 회귀로 패션 아이템 분류\r\n",
        "1. 전처리\r\n",
        "1.1. 데이터 값, 0~1.0 사이로 만들기\r\n",
        "1.2. 3D->2D 로 바꾸기\r\n",
        "2. 훈련 - 교차검증 데이터\r\n",
        "인공 신경망\r\n",
        "1. 용어 이해\r\n",
        "1.1. 출력, 출력층\r\n",
        "1.2. 입력, 입력층\r\n",
        "1.3. 유닛, 뉴런\r\n",
        "2. 텐서플로와 케라스의 관계\r\n",
        "인공 신경망 만들기\r\n",
        "1. 인공 신경망과 교차 검증\r\n",
        "2. 데이터 준비하기\r\n",
        "2.1. 훈련 데이터와 검증 데이터 준비하기\r\n",
        "3. 출력층 만들기\r\n",
        "3.1. 출력층에 들어가야 할 Parameter\r\n",
        "-뉴런의 개수, 활성화 함수, 뉴런에 입력될 입력 개수\r\n",
        "4. 빈 모델 만들기\r\n",
        "인공 신경망으로 패션 아이템 분류하기\r\n",
        "1. 훈련 전 설정\r\n",
        "1.1. compile()의 Parameter\t\r\n",
        "1.1.1. 손실함수\r\n",
        "spares_categorical_crossentropy\r\n",
        "이진분류 때 함수, 다중 분류 때 함수\r\n",
        "spares = one hot encoding +\r\n",
        "2. 모델 훈련\r\n",
        "2.1 parameter\r\n",
        "2.1.1. 훈련 데이터,  epoch\r\n",
        "3. 검증 점수 확인"
      ]
    },
    {
      "cell_type": "markdown",
      "metadata": {
        "id": "xLClOHj1ESRS"
      },
      "source": [
        ""
      ]
    },
    {
      "cell_type": "code",
      "metadata": {
        "id": "al06vUcUFCzN"
      },
      "source": [
        "from tensorflow import keras\r\n",
        "(train_input, train_target), ( test_input, test_target) = keras.datasets.fashion_mnist.load_data()"
      ],
      "execution_count": null,
      "outputs": []
    },
    {
      "cell_type": "code",
      "metadata": {
        "id": "sU3WZvXduJIW"
      },
      "source": [
        "print(train_input.shape, train_target.shape)"
      ],
      "execution_count": null,
      "outputs": []
    },
    {
      "cell_type": "code",
      "metadata": {
        "id": "4KWcBfJpuYnH"
      },
      "source": [
        "print(test_input.shape, test_target.shape)"
      ],
      "execution_count": null,
      "outputs": []
    },
    {
      "cell_type": "code",
      "metadata": {
        "id": "7bbK4BzFucRY"
      },
      "source": [
        "import matplotlib.pyplot as plt\r\n",
        "fig, axs = plt.subplots(1,10, figsize=(10,10))\r\n",
        "\r\n",
        "for i in range(10):\r\n",
        "    axs[i].imshow(train_input[i],cmap='gray_r')\r\n",
        "    axs[i].axis('off')\r\n",
        "plt.show()"
      ],
      "execution_count": null,
      "outputs": []
    },
    {
      "cell_type": "code",
      "metadata": {
        "id": "lTRp-MVbn0sb"
      },
      "source": [
        "print([train_target[i] for i in range(10)])"
      ],
      "execution_count": null,
      "outputs": []
    },
    {
      "cell_type": "code",
      "metadata": {
        "id": "6EiaPcDYoGy4"
      },
      "source": [
        "# 샘플당 몇 개씩 들어 있을까?\r\n",
        "import numpy as np\r\n",
        "print(np.unique(train_target, return_counts = True))"
      ],
      "execution_count": null,
      "outputs": []
    },
    {
      "cell_type": "code",
      "metadata": {
        "id": "3uJaW1zeoViQ"
      },
      "source": [
        "print(np.unique(test_target, return_counts= True))"
      ],
      "execution_count": null,
      "outputs": []
    },
    {
      "cell_type": "code",
      "metadata": {
        "id": "wjkwORkaog4M"
      },
      "source": [
        "# 로지스틱 회귀로 아이템 분류( 확률을 사용해서 )\r\n",
        "train_scaled = train_input/255.0\r\n",
        "train_scaled = train_scaled.reshape(-1,28*28)"
      ],
      "execution_count": null,
      "outputs": []
    },
    {
      "cell_type": "code",
      "metadata": {
        "id": "d1wTAmsCpEjX"
      },
      "source": [
        "print(train_scaled.shape)"
      ],
      "execution_count": null,
      "outputs": []
    },
    {
      "cell_type": "code",
      "metadata": {
        "id": "dcwOI12rpIs8"
      },
      "source": [
        "# 테스트 데이터가 아닌 교차 검증으로 성능을 확인해보자\r\n",
        "from sklearn.model_selection import cross_validate #교차 검증 데이터를 만들기 위해서\r\n",
        "from sklearn.linear_model import SGDClassifier\r\n",
        "sc = SGDClassifier(loss='log', max_iter=5, random_state=42)\r\n",
        "scores = cross_validate(sc, train_scaled, train_target, n_jobs=-1)\r\n",
        "print(np.mean(scores['test_score']))"
      ],
      "execution_count": null,
      "outputs": []
    },
    {
      "cell_type": "code",
      "metadata": {
        "id": "S4Qn7kRnqAPB"
      },
      "source": [
        "from tensorflow import keras"
      ],
      "execution_count": null,
      "outputs": []
    },
    {
      "cell_type": "code",
      "metadata": {
        "id": "sxhs_70CqYcQ"
      },
      "source": [
        "from sklearn.model_selection import train_test_split\r\n",
        "train_scaled, val_scaled, train_target, val_target = train_test_split(train_scaled, train_target, test_size= 0.2, random_state= 42)"
      ],
      "execution_count": null,
      "outputs": []
    },
    {
      "cell_type": "code",
      "metadata": {
        "id": "vhJSc6KBqzzq"
      },
      "source": [
        "print(train_scaled.shape, train_target.shape)"
      ],
      "execution_count": null,
      "outputs": []
    },
    {
      "cell_type": "code",
      "metadata": {
        "id": "QajmNxQjrDw9"
      },
      "source": [
        "print(val_scaled.shape, val_target.shape)"
      ],
      "execution_count": null,
      "outputs": []
    },
    {
      "cell_type": "code",
      "metadata": {
        "id": "x1aMfqMUrQj5"
      },
      "source": [
        "# 망을 만드는 방법 정말 중요\r\n",
        "dense = keras.layers.Dense( 10, activation= 'softmax', input_shape=(784,))"
      ],
      "execution_count": null,
      "outputs": []
    },
    {
      "cell_type": "code",
      "metadata": {
        "id": "gt_ZDccyrizx"
      },
      "source": [
        "model = keras.Sequential(dense)"
      ],
      "execution_count": null,
      "outputs": []
    },
    {
      "cell_type": "code",
      "metadata": {
        "id": "HyTuQ6WGrxAp"
      },
      "source": [
        "# Dense(layers) -> model(Sequential) -> compile -> fit\r\n",
        "\r\n",
        "dense = keras.layers.Dense(10, activation = 'softmax', input_shape=(785,))\r\n",
        "model = keras.Sequential(dense)\r\n",
        "model.compile(loss = 'spares_categorical_crossentripy', metrics='accuracy') # 해당 모델은 타깃값을 정수로 넣어 줘도 spares니까 괜찮다."
      ],
      "execution_count": null,
      "outputs": []
    },
    {
      "cell_type": "code",
      "metadata": {
        "id": "kQcaa39Rs4xj"
      },
      "source": [
        "print(train_target[:10])"
      ],
      "execution_count": null,
      "outputs": []
    },
    {
      "cell_type": "code",
      "metadata": {
        "id": "3JM9V6eOtW9_"
      },
      "source": [
        "model.fit(train_scaled, train_target, epochs=5)"
      ],
      "execution_count": null,
      "outputs": []
    },
    {
      "cell_type": "code",
      "metadata": {
        "id": "Eqw7eMKHuGr_"
      },
      "source": [
        ""
      ],
      "execution_count": null,
      "outputs": []
    },
    {
      "cell_type": "code",
      "metadata": {
        "id": "3aHKfvbTtd2D"
      },
      "source": [
        ""
      ],
      "execution_count": null,
      "outputs": []
    }
  ]
}