{
  "nbformat": 4,
  "nbformat_minor": 0,
  "metadata": {
    "colab": {
      "name": "연습_7-1 인공 신경망.ipynb",
      "private_outputs": true,
      "provenance": [],
      "authorship_tag": "ABX9TyPvXjNgpfTP2C95J26RBseI",
      "include_colab_link": true
    },
    "kernelspec": {
      "name": "python3",
      "display_name": "Python 3"
    }
  },
  "cells": [
    {
      "cell_type": "markdown",
      "metadata": {
        "id": "view-in-github",
        "colab_type": "text"
      },
      "source": [
        "<a href=\"https://colab.research.google.com/github/sejhig2/machineLearning_HONGONG_machine_propeller/blob/main/%EC%97%B0%EC%8A%B5_7_1_%EC%9D%B8%EA%B3%B5_%EC%8B%A0%EA%B2%BD%EB%A7%9D.ipynb\" target=\"_parent\"><img src=\"https://colab.research.google.com/assets/colab-badge.svg\" alt=\"Open In Colab\"/></a>"
      ]
    },
    {
      "cell_type": "markdown",
      "metadata": {
        "id": "4a3Kv8OKEVPX"
      },
      "source": [
        "인공 신경망 알고리즘\r\n",
        "로지스틱 회귀로 패션 아이템 분류\r\n",
        "1. 전처리\r\n",
        "1.1. 데이터 값, 0~1.0 사이로 만들기\r\n",
        "1.2. 3D->2D 로 바꾸기\r\n",
        "2. 훈련 - 교차검증 데이터\r\n",
        "인공 신경망\r\n",
        "1. 용어 이해\r\n",
        "1.1. 출력, 출력층\r\n",
        "1.2. 입력, 입력층\r\n",
        "1.3. 유닛, 뉴런\r\n",
        "2. 텐서플로와 케라스의 관계\r\n",
        "인공 신경망 만들기\r\n",
        "1. 인공 신경망과 교차 검증\r\n",
        "2. 데이터 준비하기\r\n",
        "2.1. 훈련 데이터와 검증 데이터 준비하기\r\n",
        "3. 출력층 만들기\r\n",
        "3.1. 출력층에 들어가야 할 Parameter\r\n",
        "-뉴런의 개수, 활성화 함수, 뉴런에 입력될 입력 개수\r\n",
        "4. 빈 모델 만들기\r\n",
        "인공 신경망으로 패션 아이템 분류하기\r\n",
        "1. 훈련 전 설정\r\n",
        "1.1. compile()의 Parameter\t\r\n",
        "1.1.1. 손실함수\r\n",
        "spares_categorical_crossentropy\r\n",
        "이진분류 때 함수, 다중 분류 때 함수\r\n",
        "spares = one hot encoding +\r\n",
        "2. 모델 훈련\r\n",
        "2.1 parameter\r\n",
        "2.1.1. 훈련 데이터,  epoch\r\n",
        "3. 검증 점수 확인"
      ]
    },
    {
      "cell_type": "markdown",
      "metadata": {
        "id": "xLClOHj1ESRS"
      },
      "source": [
        ""
      ]
    },
    {
      "cell_type": "code",
      "metadata": {
        "id": "al06vUcUFCzN"
      },
      "source": [
        ""
      ],
      "execution_count": null,
      "outputs": []
    }
  ]
}