{
  "nbformat": 4,
  "nbformat_minor": 0,
  "metadata": {
    "colab": {
      "name": "연습_5-2 교차 검증과 그리드 서치.ipynb",
      "private_outputs": true,
      "provenance": [],
      "authorship_tag": "ABX9TyNHjSUGofO89keglURrea2r",
      "include_colab_link": true
    },
    "kernelspec": {
      "name": "python3",
      "display_name": "Python 3"
    }
  },
  "cells": [
    {
      "cell_type": "markdown",
      "metadata": {
        "id": "view-in-github",
        "colab_type": "text"
      },
      "source": [
        "<a href=\"https://colab.research.google.com/github/sejhig2/machineLearning_HONGONG_machine_propeller/blob/main/%EC%97%B0%EC%8A%B5_5_2_%EA%B5%90%EC%B0%A8_%EA%B2%80%EC%A6%9D%EA%B3%BC_%EA%B7%B8%EB%A6%AC%EB%93%9C_%EC%84%9C%EC%B9%98.ipynb\" target=\"_parent\"><img src=\"https://colab.research.google.com/assets/colab-badge.svg\" alt=\"Open In Colab\"/></a>"
      ]
    },
    {
      "cell_type": "markdown",
      "metadata": {
        "id": "EQOurUdpYiwp"
      },
      "source": [
        "최적의 성능을 내는 하이퍼파라미터를 찾아보자"
      ]
    },
    {
      "cell_type": "code",
      "metadata": {
        "id": "wqCZ6bgDYTKO"
      },
      "source": [
        "# 검증세트 만들기 "
      ],
      "execution_count": null,
      "outputs": []
    },
    {
      "cell_type": "code",
      "metadata": {
        "id": "51hoXbnnePU9"
      },
      "source": [
        "import pandas as pd\r\n",
        "\r\n",
        "wine = pd.read_csv('https://bit.ly/wine_csv_data')"
      ],
      "execution_count": null,
      "outputs": []
    },
    {
      "cell_type": "code",
      "metadata": {
        "id": "rvTHN30AhBBE"
      },
      "source": [
        "data = wine[['alcohol', 'sugar', 'pH']].to_numpy()\r\n",
        "target = wine['class'].to_numpy()"
      ],
      "execution_count": null,
      "outputs": []
    },
    {
      "cell_type": "code",
      "metadata": {
        "id": "wwmjVUEmhK6x"
      },
      "source": [
        "from sklearn.model_selection import train_test_split\r\n",
        "\r\n",
        "train_input, test_input, train_target, test_target = train_test_split(\r\n",
        "    data, target, test_size=0.2, random_state=42)"
      ],
      "execution_count": null,
      "outputs": []
    },
    {
      "cell_type": "code",
      "metadata": {
        "id": "Q7njXtlPhbwG"
      },
      "source": [
        "train_sub_input, val_input, train_sub_target, val_target = train_test_split(\r\n",
        "    train_input, train_target, test_size=0.2, random_state=42)"
      ],
      "execution_count": null,
      "outputs": []
    },
    {
      "cell_type": "code",
      "metadata": {
        "id": "jUGi2p2Th-1y"
      },
      "source": [
        "print(train_sub_input.shape, val_input.shape)"
      ],
      "execution_count": null,
      "outputs": []
    },
    {
      "cell_type": "code",
      "metadata": {
        "id": "X-ikF6f3iJaF"
      },
      "source": [
        "from sklearn.tree import DecisionTreeClassifier\r\n",
        "dt = DecisionTreeClassifier( random_state= 42)\r\n",
        "dt.fit(train_sub_input, train_sub_target)\r\n",
        "\r\n",
        "print(dt.score(train_sub_input, train_sub_target))\r\n",
        "print(dt.score(val_input, val_target))"
      ],
      "execution_count": null,
      "outputs": []
    },
    {
      "cell_type": "code",
      "metadata": {
        "id": "ZYCmtGXtkEN1"
      },
      "source": [
        "# 교차 검증 함수"
      ],
      "execution_count": null,
      "outputs": []
    },
    {
      "cell_type": "code",
      "metadata": {
        "id": "AyZDf0EzkmZ0"
      },
      "source": [
        "from sklearn.model_selection import cross_validate\r\n",
        "scores = cross_validate(dt, train_input, train_target)\r\n",
        "print(scores)"
      ],
      "execution_count": null,
      "outputs": []
    },
    {
      "cell_type": "code",
      "metadata": {
        "id": "fPqyrMiOkyKv"
      },
      "source": [
        "import numpy as np\r\n",
        "print(np.mean(scores['test_score']))"
      ],
      "execution_count": null,
      "outputs": []
    },
    {
      "cell_type": "code",
      "metadata": {
        "id": "04vwXRHFlJne"
      },
      "source": [
        "# splitter 분할기를 사용해서 데이터 섞기"
      ],
      "execution_count": null,
      "outputs": []
    },
    {
      "cell_type": "code",
      "metadata": {
        "id": "gmj5c7uVlexz"
      },
      "source": [
        "from sklearn.model_selection import StratifiedKFold\r\n",
        "scores = cross_validate(dt, train_input, train_target, cv= StratifiedKFold())\r\n",
        "print(np.mean(scores['test_score']))"
      ],
      "execution_count": null,
      "outputs": []
    },
    {
      "cell_type": "code",
      "metadata": {
        "id": "xR1sUxfimDKK"
      },
      "source": [
        "splitter = StratifiedKFold( n_splits=10, shuffle = True)\r\n",
        "\r\n",
        "scores = cross_validate(dt, train_input, train_target, cv = splitter)\r\n",
        "print(np.mean(scores['test_score']))"
      ],
      "execution_count": null,
      "outputs": []
    },
    {
      "cell_type": "code",
      "metadata": {
        "id": "TqSZG1sHmY4S"
      },
      "source": [
        "from sklearn.model_selection import GridSearchCV\r\n",
        "#min_impurity_decrease 매개변수의 범위 만들어주기\r\n",
        "params  = {'min_impurity_decrease':[0.0001,0.0002,0.0003,0.0004,0.0005,0.0006,0.0007,0.0008,0.0009,0.001] }\r\n",
        "\r\n",
        "#교차검증할 객체 만들기\r\n",
        "gs = GridSearchCV(DecisionTreeClassifier(max_depth=5),params,n_jobs = -1 )"
      ],
      "execution_count": null,
      "outputs": []
    },
    {
      "cell_type": "code",
      "metadata": {
        "id": "2UOItFyi40nG"
      },
      "source": [
        "#훈련데이터로 그리드서치 훈련시키기.\r\n",
        "gs.fit(train_input, train_target)"
      ],
      "execution_count": null,
      "outputs": []
    },
    {
      "cell_type": "code",
      "metadata": {
        "id": "ONH0XefR47JM"
      },
      "source": [
        "dt = gs.best_estimator_\r\n",
        "print(dt.score(train_input, train_target))"
      ],
      "execution_count": null,
      "outputs": []
    },
    {
      "cell_type": "code",
      "metadata": {
        "id": "NEkRlHeT6wWv"
      },
      "source": [
        "print(gs.best_params_)"
      ],
      "execution_count": null,
      "outputs": []
    },
    {
      "cell_type": "code",
      "metadata": {
        "id": "GVQryd-664Ok"
      },
      "source": [
        "best_index= np.argmax(gs.cv_results_['mean_test_score'])\r\n",
        "print(gs.cv_results_['params'][best_index])"
      ],
      "execution_count": null,
      "outputs": []
    },
    {
      "cell_type": "code",
      "metadata": {
        "id": "HUEomISF7Ccm"
      },
      "source": [
        "params = {'min_impurity_decrease':np.arange(0.0001,0.001, 0.01),\r\n",
        "          'max_depth': range(5,20,1),\r\n",
        "          'min_samples_split':range(2,100,10)\r\n",
        "          }"
      ],
      "execution_count": null,
      "outputs": []
    },
    {
      "cell_type": "code",
      "metadata": {
        "id": "G62-iS2p7JTh"
      },
      "source": [
        "gs= GridSearchCV(DecisionTreeClassifier(),params,n_jobs= -1)\r\n",
        "gs.fit(train_input,train_target)"
      ],
      "execution_count": null,
      "outputs": []
    },
    {
      "cell_type": "code",
      "metadata": {
        "id": "UL-06txY8EW6"
      },
      "source": [
        "print(gs.best_params_)"
      ],
      "execution_count": null,
      "outputs": []
    },
    {
      "cell_type": "code",
      "metadata": {
        "id": "nE-Z05cv8QEp"
      },
      "source": [
        "print(np.max(gs.cv_results_['mean_test_score']))"
      ],
      "execution_count": null,
      "outputs": []
    },
    {
      "cell_type": "code",
      "metadata": {
        "id": "GLZm_FDo8gHu"
      },
      "source": [
        "from scipy.stats import uniform, randint\r\n",
        "rgen = randint(0, 10)\r\n",
        "rgen.rvs(20)\r\n",
        "np.unique(rgen.rvs(1000), return_counts = True)"
      ],
      "execution_count": null,
      "outputs": []
    },
    {
      "cell_type": "code",
      "metadata": {
        "id": "XakUiiB69Nwg"
      },
      "source": [
        "ugen = uniform(0,1)\r\n",
        "ugen.rvs(10)"
      ],
      "execution_count": null,
      "outputs": []
    },
    {
      "cell_type": "code",
      "metadata": {
        "id": "ehZ1xrYs9xb1"
      },
      "source": [
        "params ={'min_impurity_decrease':uniform(0.0001,0.001),\r\n",
        "         'max_depth':randint(20,50),\r\n",
        "         'min_samples_split': randint(2,25),\r\n",
        "         'min_samples_leaf': randint(1,25),\r\n",
        "         }"
      ],
      "execution_count": null,
      "outputs": []
    },
    {
      "cell_type": "code",
      "metadata": {
        "id": "2icdbo02-gkh"
      },
      "source": [
        "from sklearn.model_selection import RandomizedSearchCV\r\n",
        "gs = RandomizedSearchCV(DecisionTreeClassifier() ,params, n_jobs= -1, n_iter =100)\r\n",
        "gs.fit(train_input, train_target)"
      ],
      "execution_count": null,
      "outputs": []
    },
    {
      "cell_type": "code",
      "metadata": {
        "id": "9zdWHDCq_NFe"
      },
      "source": [
        "print(gs.best_params_)"
      ],
      "execution_count": null,
      "outputs": []
    },
    {
      "cell_type": "code",
      "metadata": {
        "id": "Qr54Xqn5_WRG"
      },
      "source": [
        "print(np.max(gs.cv_results_['mean_test_score']))"
      ],
      "execution_count": null,
      "outputs": []
    },
    {
      "cell_type": "code",
      "metadata": {
        "id": "J30gDijp_q3w"
      },
      "source": [
        "dt = gs.best_estimator_\r\n",
        "print(dt.score(test_input, test_target))"
      ],
      "execution_count": null,
      "outputs": []
    },
    {
      "cell_type": "code",
      "metadata": {
        "id": "wddq_UAq_wz2"
      },
      "source": [
        ""
      ],
      "execution_count": null,
      "outputs": []
    }
  ]
}