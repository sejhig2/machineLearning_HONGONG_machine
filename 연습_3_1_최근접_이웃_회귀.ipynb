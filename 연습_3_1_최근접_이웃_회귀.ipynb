{
  "nbformat": 4,
  "nbformat_minor": 0,
  "metadata": {
    "colab": {
      "name": "연습_3-1 최근접 이웃 회귀.ipynb",
      "private_outputs": true,
      "provenance": [],
      "collapsed_sections": [],
      "authorship_tag": "ABX9TyM1HjiCJ+ezs1YXXUj3mQAH",
      "include_colab_link": true
    },
    "kernelspec": {
      "name": "python3",
      "display_name": "Python 3"
    }
  },
  "cells": [
    {
      "cell_type": "markdown",
      "metadata": {
        "id": "view-in-github",
        "colab_type": "text"
      },
      "source": [
        "<a href=\"https://colab.research.google.com/github/sejhig2/machineLearning_HONGONG_machine/blob/main/%EC%97%B0%EC%8A%B5_3_1_%EC%B5%9C%EA%B7%BC%EC%A0%91_%EC%9D%B4%EC%9B%83_%ED%9A%8C%EA%B7%80.ipynb\" target=\"_parent\"><img src=\"https://colab.research.google.com/assets/colab-badge.svg\" alt=\"Open In Colab\"/></a>"
      ]
    },
    {
      "cell_type": "markdown",
      "metadata": {
        "id": "iCYiDXPfE_Ck"
      },
      "source": [
        "키워드\r\n",
        "\r\n",
        "회귀, k- 최근접 이웃 회귀, 결정계수, 과대적합과 과소 적합"
      ]
    },
    {
      "cell_type": "code",
      "metadata": {
        "id": "dqSgmkPxEuvz"
      },
      "source": [
        ""
      ],
      "execution_count": null,
      "outputs": []
    },
    {
      "cell_type": "markdown",
      "metadata": {
        "id": "Bh7SwgW1FMJ_"
      },
      "source": [
        "<h2>k-최근접 이웃 회귀"
      ]
    },
    {
      "cell_type": "markdown",
      "metadata": {
        "id": "CWryiMvKE-b0"
      },
      "source": [
        "<h2>데이터 가져오기"
      ]
    },
    {
      "cell_type": "code",
      "metadata": {
        "id": "_Y4Q1UlUFSn6"
      },
      "source": [
        "import numpy as np\r\n",
        "perch_length = np.array([8.4, 13.7, 15.0, 16.2, 17.4, 18.0, 18.7, 19.0, 19.6, 20.0, \r\n",
        "     21.0, 21.0, 21.0, 21.3, 22.0, 22.0, 22.0, 22.0, 22.0, 22.5, \r\n",
        "     22.5, 22.7, 23.0, 23.5, 24.0, 24.0, 24.6, 25.0, 25.6, 26.5, \r\n",
        "     27.3, 27.5, 27.5, 27.5, 28.0, 28.7, 30.0, 32.8, 34.5, 35.0, \r\n",
        "     36.5, 36.0, 37.0, 37.0, 39.0, 39.0, 39.0, 40.0, 40.0, 40.0, \r\n",
        "     40.0, 42.0, 43.0, 43.0, 43.5, 44.0])\r\n",
        "perch_weight = np.array([5.9, 32.0, 40.0, 51.5, 70.0, 100.0, 78.0, 80.0, 85.0, 85.0, \r\n",
        "     110.0, 115.0, 125.0, 130.0, 120.0, 120.0, 130.0, 135.0, 110.0, \r\n",
        "     130.0, 150.0, 145.0, 150.0, 170.0, 225.0, 145.0, 188.0, 180.0, \r\n",
        "     197.0, 218.0, 300.0, 260.0, 265.0, 250.0, 250.0, 300.0, 320.0, \r\n",
        "     514.0, 556.0, 840.0, 685.0, 700.0, 700.0, 690.0, 900.0, 650.0, \r\n",
        "     820.0, 850.0, 900.0, 1015.0, 820.0, 1100.0, 1000.0, 1100.0, \r\n",
        "     1000.0, 1000.0])"
      ],
      "execution_count": null,
      "outputs": []
    },
    {
      "cell_type": "code",
      "metadata": {
        "id": "rA5Qav8SFqDk"
      },
      "source": [
        "# 가져온 데이터의 특성을 가시적으로 보기 위해 그래프를 그려보자\r\n",
        "import matplotlib.pyplot as plt\r\n",
        "plt.scatter(perch_length,perch_weight )\r\n",
        "plt.xlabel('length',fontsize = 20) # 라벨을 한글로 하려면 추가로 인코딩해야할 듯\r\n",
        "plt.ylabel(\"weight\", fontsize = 20) \r\n",
        "plt.show()"
      ],
      "execution_count": null,
      "outputs": []
    },
    {
      "cell_type": "code",
      "metadata": {
        "id": "Z9IcZaX-GFNG"
      },
      "source": [
        "# 훈련/테스트 데이터 나누기, 섞기. 답지 만들기\r\n",
        "from sklearn.model_selection import train_test_split\r\n",
        "train_input, test_input, train_target, test_target = train_test_split(perch_length, perch_weight)"
      ],
      "execution_count": null,
      "outputs": []
    },
    {
      "cell_type": "code",
      "metadata": {
        "id": "vTPUB767G_LU"
      },
      "source": [
        "# 사이킷런을 위해 데이터의 크기 조절하기\r\n",
        "test_array = np.array([1,2,3,4])\r\n",
        "print(test_array.shape)"
      ],
      "execution_count": null,
      "outputs": []
    },
    {
      "cell_type": "code",
      "metadata": {
        "id": "KEJBaKhoH9Qe"
      },
      "source": [
        "# 4짜리를 2,2로 바꾸려고\r\n",
        "test_array = test_array.reshape(2,2)\r\n",
        "print(test_array.shape)"
      ],
      "execution_count": null,
      "outputs": []
    },
    {
      "cell_type": "code",
      "metadata": {
        "id": "Fn4fzA-IIHAk"
      },
      "source": [
        "# 2차원 배열로 바꾸려고 한다.\r\n",
        "train_input = train_input.reshape(-1,1)\r\n",
        "test_input = test_input.reshape(-1,1)\r\n",
        "print(train_input.shape, test_input.shape)"
      ],
      "execution_count": null,
      "outputs": []
    },
    {
      "cell_type": "code",
      "metadata": {
        "id": "fuNPpCCiLcaB"
      },
      "source": [
        "#k-최근접 이웃 회귀 알고리즘 \r\n",
        "from sklearn.neighbors import KNeighborsRegressor\r\n",
        "# 모델 생성\r\n",
        "knr = KNeighborsRegressor()\r\n",
        "#훈련\r\n",
        "knr.fit(train_input,train_target)\r\n",
        "#성능 확인\r\n",
        "print(knr.score(test_input, test_target))"
      ],
      "execution_count": null,
      "outputs": []
    },
    {
      "cell_type": "code",
      "metadata": {
        "id": "qsNtBf2YSPNc"
      },
      "source": [
        "# 여러가지 측정도구를 통해서 타깃 값과 예측한 값 사이의 차이를 구해보자\r\n",
        "from sklearn.metrics import mean_absolute_error\r\n",
        "# 예측값과 타깃값의 차이를 알아야하니 일단 예측값은 만들어야지\r\n",
        "test_prediction = knr.predict(test_input)\r\n",
        "mae = mean_absolute_error(test_target, test_prediction)"
      ],
      "execution_count": null,
      "outputs": []
    },
    {
      "cell_type": "code",
      "metadata": {
        "id": "neGjjnDFVCoc"
      },
      "source": [
        ""
      ],
      "execution_count": null,
      "outputs": []
    },
    {
      "cell_type": "markdown",
      "metadata": {
        "id": "o1WcPKXkVZJ_"
      },
      "source": [
        "<h2> 과대적합 vs 과소적합"
      ]
    },
    {
      "cell_type": "code",
      "metadata": {
        "id": "wekwcUEhU_Ls"
      },
      "source": [
        ""
      ],
      "execution_count": null,
      "outputs": []
    },
    {
      "cell_type": "code",
      "metadata": {
        "id": "LWvSTF97Vc_K"
      },
      "source": [
        ""
      ],
      "execution_count": null,
      "outputs": []
    }
  ]
}