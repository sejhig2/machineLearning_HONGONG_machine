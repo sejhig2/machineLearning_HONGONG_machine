{
  "nbformat": 4,
  "nbformat_minor": 0,
  "metadata": {
    "colab": {
      "name": "practice 1-3.ipynb",
      "private_outputs": true,
      "provenance": [],
      "collapsed_sections": [],
      "authorship_tag": "ABX9TyMpdIsuxdf+eMN6JVsZVHeR",
      "include_colab_link": true
    },
    "kernelspec": {
      "name": "python3",
      "display_name": "Python 3"
    },
    "language_info": {
      "name": "python"
    }
  },
  "cells": [
    {
      "cell_type": "markdown",
      "metadata": {
        "id": "view-in-github",
        "colab_type": "text"
      },
      "source": [
        "<a href=\"https://colab.research.google.com/github/sejhig2/machineLearning_HONGONG_machine_propeller/blob/main/practice_1_3.ipynb\" target=\"_parent\"><img src=\"https://colab.research.google.com/assets/colab-badge.svg\" alt=\"Open In Colab\"/></a>"
      ]
    },
    {
      "cell_type": "markdown",
      "metadata": {
        "id": "UDjgPkwG1VC1"
      },
      "source": [
        "### 실습하기"
      ]
    },
    {
      "cell_type": "code",
      "metadata": {
        "id": "KK0aDNEmxCG1"
      },
      "source": [
        "smelt_length = [9.8, 10.5, 10.6, 11.0, 11.2, 11.3, 11.8, 11.8, 12.0, 12.2, 12.4, 13.0, 14.3, 15.0]\n",
        "smelt_weight = [6.7, 7.5, 7.0, 9.7, 9.8, 8.7, 10.0, 9.9, 9.8, 12.2, 13.4, 12.2, 19.7, 19.9]\n",
        "\n",
        "bream_length = [25.4, 26.3, 26.5, 29.0, 29.0, 29.7, 29.7, 30.0, 30.0, 30.7, 31.0, 31.0, \n",
        "                31.5, 32.0, 32.0, 32.0, 33.0, 33.0, 33.5, 33.5, 34.0, 34.0, 34.5, 35.0, \n",
        "                35.0, 35.0, 35.0, 36.0, 36.0, 37.0, 38.5, 38.5, 39.5, 41.0, 41.0]\n",
        "bream_weight = [242.0, 290.0, 340.0, 363.0, 430.0, 450.0, 500.0, 390.0, 450.0, 500.0, 475.0, 500.0, \n",
        "                500.0, 340.0, 600.0, 600.0, 700.0, 700.0, 610.0, 650.0, 575.0, 685.0, 620.0, 680.0, \n",
        "                700.0, 725.0, 720.0, 714.0, 850.0, 1000.0, 920.0, 955.0, 925.0, 975.0, 950.0]\n",
        "print(len(smelt_length))\n",
        "print(len(bream_length))"
      ],
      "execution_count": null,
      "outputs": []
    },
    {
      "cell_type": "code",
      "metadata": {
        "id": "kGtrUuxWxyAp"
      },
      "source": [
        "import matplotlib.pyplot as plt\n",
        "#산점도로 분포를 알아보자\n",
        "plt.scatter(smelt_length, smelt_weight)\n",
        "plt.scatter (bream_length, bream_weight)\n",
        "plt.xlabel(\"length\")\n",
        "plt.ylabel('weight')\n",
        "plt.show()"
      ],
      "execution_count": null,
      "outputs": []
    },
    {
      "cell_type": "code",
      "metadata": {
        "id": "sN4TjqiJygyU"
      },
      "source": [
        "# 도미 데이터와 방어 데이터를 합쳐서 훈련용 데이터를 만들자.\n",
        "\n",
        "length = bream_length + smelt_length\n",
        "weight = bream_weight + bream_weight\n",
        "\n",
        "# 무게와 길이를 짝지어주자.\n",
        "fish_data = [ [l,w] for l,w in zip(length, weight) ]\n",
        "print(fish)"
      ],
      "execution_count": null,
      "outputs": []
    },
    {
      "cell_type": "code",
      "metadata": {
        "id": "XsRgyQ6CzRb5"
      },
      "source": [
        "#정답 데이터 만들어주기\n",
        "fish_target = [\"도미\"] *35 + [\"방어\"]*14\n",
        "print(fish_target)"
      ],
      "execution_count": null,
      "outputs": []
    },
    {
      "cell_type": "code",
      "metadata": {
        "id": "qTB8eXQxz3Wp"
      },
      "source": [
        "#훈련시킬 알고리즘 가져오기\n",
        "from sklearn.neighbors import KNeighborsClassifier\n",
        "kn = KNeighborsClassifier()\n",
        "\n",
        "# 훈련시키기\n",
        "kn.fit(fish_data, fish_target)"
      ],
      "execution_count": null,
      "outputs": []
    },
    {
      "cell_type": "code",
      "metadata": {
        "id": "RXe-xf7H0aOQ"
      },
      "source": [
        "kn.score(fish_data, fish_target)"
      ],
      "execution_count": null,
      "outputs": []
    },
    {
      "cell_type": "code",
      "metadata": {
        "id": "Z3I3mzHK0oBm"
      },
      "source": [
        "# 금방 잡은 생선이 어떤 생선인지 확인해보자\n",
        "kn.predict( [[30,400]])"
      ],
      "execution_count": null,
      "outputs": []
    },
    {
      "cell_type": "markdown",
      "metadata": {
        "id": "wvmJVw571Slp"
      },
      "source": [
        "###복습하기"
      ]
    },
    {
      "cell_type": "code",
      "metadata": {
        "id": "irhdaSQC0z94"
      },
      "source": [
        "smelt_length = [9.8, 10.5, 10.6, 11.0, 11.2, 11.3, 11.8, 11.8, 12.0, 12.2, 12.4, 13.0, 14.3, 15.0]\n",
        "smelt_weight = [6.7, 7.5, 7.0, 9.7, 9.8, 8.7, 10.0, 9.9, 9.8, 12.2, 13.4, 12.2, 19.7, 19.9]\n",
        "\n",
        "bream_length = [25.4, 26.3, 26.5, 29.0, 29.0, 29.7, 29.7, 30.0, 30.0, 30.7, 31.0, 31.0, \n",
        "                31.5, 32.0, 32.0, 32.0, 33.0, 33.0, 33.5, 33.5, 34.0, 34.0, 34.5, 35.0, \n",
        "                35.0, 35.0, 35.0, 36.0, 36.0, 37.0, 38.5, 38.5, 39.5, 41.0, 41.0]\n",
        "bream_weight = [242.0, 290.0, 340.0, 363.0, 430.0, 450.0, 500.0, 390.0, 450.0, 500.0, 475.0, 500.0, \n",
        "                500.0, 340.0, 600.0, 600.0, 700.0, 700.0, 610.0, 650.0, 575.0, 685.0, 620.0, 680.0, \n",
        "                700.0, 725.0, 720.0, 714.0, 850.0, 1000.0, 920.0, 955.0, 925.0, 975.0, 950.0]"
      ],
      "execution_count": null,
      "outputs": []
    },
    {
      "cell_type": "code",
      "metadata": {
        "id": "71UhCZWk1YE1"
      },
      "source": [
        "# 그래프를 통해서 분포를 알아보자\n",
        "import matplotlib.pyplot as plt\n",
        "plt.scatter(smelt_length, smelt_weight)\n",
        "plt.scatter( bream_length, bream_weight)\n",
        "plt.show()"
      ],
      "execution_count": null,
      "outputs": []
    },
    {
      "cell_type": "code",
      "metadata": {
        "id": "PDDEHTdc1zFL"
      },
      "source": [
        "# 훈련 시키기\n",
        "# 훈련을 위해서는 로우데이터와 정답 데이터가 둘다 있어야 한다.\n",
        "# 훈련을 위해서 도미와 방어 데이터를 섞어놓고 정답데이터를 따로 만들어주자\n",
        "fish_weight = bream_weight + smelt_weight\n",
        "fish_length = bream_length + smelt_length\n",
        "fish_data = [ [l,w] for l, w in zip (fish_length, fish_weight) ]\n",
        "fish_target = [\"도미\"] * 35 + [\"방어\"] *14"
      ],
      "execution_count": null,
      "outputs": []
    },
    {
      "cell_type": "code",
      "metadata": {
        "id": "Kkhzndjn3OT5"
      },
      "source": [
        "print(fish_data)\n",
        "print(fish_target)"
      ],
      "execution_count": null,
      "outputs": []
    },
    {
      "cell_type": "code",
      "metadata": {
        "id": "CU-21DRj3kDK"
      },
      "source": [
        "# 준비된 데이터로 훈련을 시키자\n",
        "from sklearn.neighbors import KNeighborsClassifier\n",
        "kn = KNeighborsClassifier()\n",
        "\n",
        "kn.fit(fish_data, fish_target)\n",
        "kn.score(fish_data, fish_target)\n"
      ],
      "execution_count": null,
      "outputs": []
    },
    {
      "cell_type": "code",
      "metadata": {
        "id": "tGJaDcET33Ij"
      },
      "source": [
        "# 금방 잡은 생선이 어디에 속해있는지 확인해보자\n",
        "new_fish = [30,350]\n",
        "kn.predict( [new_fish])"
      ],
      "execution_count": null,
      "outputs": []
    },
    {
      "cell_type": "code",
      "metadata": {
        "id": "qHir7Vrx4EcR"
      },
      "source": [
        "import matplotlib.pyplot as plt\n",
        "plt.scatter(fish_length, fish_weight)\n",
        "plt.scatter(new_fish[0], new_fish[1] )\n",
        "plt.show()"
      ],
      "execution_count": null,
      "outputs": []
    },
    {
      "cell_type": "code",
      "metadata": {
        "id": "7_oGF_ep4lV5"
      },
      "source": [
        ""
      ],
      "execution_count": null,
      "outputs": []
    }
  ]
}