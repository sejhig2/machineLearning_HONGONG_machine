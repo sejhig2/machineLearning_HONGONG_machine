{
  "nbformat": 4,
  "nbformat_minor": 0,
  "metadata": {
    "colab": {
      "name": "연습_6-2 K-평균.ipynb",
      "private_outputs": true,
      "provenance": [],
      "authorship_tag": "ABX9TyNjlXuFYY23gm/D2pcDT/Wz",
      "include_colab_link": true
    },
    "kernelspec": {
      "name": "python3",
      "display_name": "Python 3"
    },
    "accelerator": "GPU"
  },
  "cells": [
    {
      "cell_type": "markdown",
      "metadata": {
        "id": "view-in-github",
        "colab_type": "text"
      },
      "source": [
        "<a href=\"https://colab.research.google.com/github/sejhig2/machineLearning_HONGONG_machine_propeller/blob/main/%EC%97%B0%EC%8A%B5_6_2_K_%ED%8F%89%EA%B7%A0.ipynb\" target=\"_parent\"><img src=\"https://colab.research.google.com/assets/colab-badge.svg\" alt=\"Open In Colab\"/></a>"
      ]
    },
    {
      "cell_type": "code",
      "metadata": {
        "id": "5LmohWvcjNcS"
      },
      "source": [
        "!wget https://bit.ly/fruits_300_data -O fruits_300.npy"
      ],
      "execution_count": null,
      "outputs": []
    },
    {
      "cell_type": "code",
      "metadata": {
        "id": "L6EgdAAboJ7K"
      },
      "source": [
        "import numpy as np\r\n",
        "\r\n",
        "fruits = np.load('fruits_300.npy')\r\n",
        "fruits_2d = fruits.reshape(-1, 100*100)"
      ],
      "execution_count": null,
      "outputs": []
    },
    {
      "cell_type": "code",
      "metadata": {
        "id": "cfYXCDcyoV__"
      },
      "source": [
        "# k평균 모델 만들기\r\n",
        "from sklearn.cluster import KMeans\r\n",
        "\r\n",
        "km= KMeans(n_clusters = 3 , random_state=42)\r\n",
        "km.fit(fruits_2d)"
      ],
      "execution_count": null,
      "outputs": []
    },
    {
      "cell_type": "code",
      "metadata": {
        "id": "zu06gylkpvAz"
      },
      "source": [
        "print(km.labels_)"
      ],
      "execution_count": null,
      "outputs": []
    },
    {
      "cell_type": "code",
      "metadata": {
        "id": "95p1qLeVqCKw"
      },
      "source": [
        "print(np.unique(km.labels_, return_counts= True))"
      ],
      "execution_count": null,
      "outputs": []
    },
    {
      "cell_type": "code",
      "metadata": {
        "id": "65cEpJs3qkR0"
      },
      "source": [
        "# 그림으로 출력하는 함수 만들기\r\n",
        "\r\n",
        "import matplotlib.pyplot as plt\r\n",
        "def draw_fruits(arr, ratio =1):\r\n",
        "    n = len(arr) # toavmf rotn\r\n",
        "    rows = int(np.ceil(n/10))\r\n",
        "    cols = n if rows < 2 else 10\r\n",
        "\r\n",
        "    fig, axs = plt.subplots( rows, cols, figsize= (cols*ratio, rows*ratio), squeeze= False)\r\n",
        "\r\n",
        "    for i in range(rows):\r\n",
        "        for j in range(cols):\r\n",
        "            if i*10 + j < n :\r\n",
        "                axs[i,j].imshow(arr[i*10 + j], cmap='gray_r')\r\n",
        "    plt.show()"
      ],
      "execution_count": null,
      "outputs": []
    },
    {
      "cell_type": "code",
      "metadata": {
        "id": "dD1fwvstxQMH"
      },
      "source": [
        ""
      ],
      "execution_count": null,
      "outputs": []
    },
    {
      "cell_type": "code",
      "metadata": {
        "id": "gq5STeqcvGhc"
      },
      "source": [
        "draw_fruits(fruits[km.labels_==0])"
      ],
      "execution_count": null,
      "outputs": []
    },
    {
      "cell_type": "code",
      "metadata": {
        "id": "paq216v-vgDo"
      },
      "source": [
        "draw_fruits(fruits[km.labels_==1])"
      ],
      "execution_count": null,
      "outputs": []
    },
    {
      "cell_type": "code",
      "metadata": {
        "id": "51lJ0Q0Yw_8c"
      },
      "source": [
        "draw_fruits(fruits[km.labels_==2])"
      ],
      "execution_count": null,
      "outputs": []
    },
    {
      "cell_type": "code",
      "metadata": {
        "id": "Uc45v4ukxqXa"
      },
      "source": [
        "draw_fruits(km.cluster_centers_.reshape(-1, 100, 100), ratio=3)"
      ],
      "execution_count": null,
      "outputs": []
    },
    {
      "cell_type": "code",
      "metadata": {
        "id": "qXpY65Vzx3gV"
      },
      "source": [
        ""
      ],
      "execution_count": null,
      "outputs": []
    }
  ]
}