{
  "nbformat": 4,
  "nbformat_minor": 0,
  "metadata": {
    "colab": {
      "name": "연습_4-1 로지스틱 회귀.ipynb",
      "private_outputs": true,
      "provenance": [],
      "authorship_tag": "ABX9TyMGXAhROV3lcJtLsXClPnnO",
      "include_colab_link": true
    },
    "kernelspec": {
      "name": "python3",
      "display_name": "Python 3"
    }
  },
  "cells": [
    {
      "cell_type": "markdown",
      "metadata": {
        "id": "view-in-github",
        "colab_type": "text"
      },
      "source": [
        "<a href=\"https://colab.research.google.com/github/sejhig2/machineLearning_HONGONG_machine_propeller/blob/main/%EC%97%B0%EC%8A%B5_4_1_%EB%A1%9C%EC%A7%80%EC%8A%A4%ED%8B%B1_%ED%9A%8C%EA%B7%80.ipynb\" target=\"_parent\"><img src=\"https://colab.research.google.com/assets/colab-badge.svg\" alt=\"Open In Colab\"/></a>"
      ]
    },
    {
      "cell_type": "code",
      "metadata": {
        "id": "HyABR7cK8YbE"
      },
      "source": [
        "import pandas as pd \r\n",
        "fish = pd.read_csv('https://bit.ly/fish_csv_data')\r\n",
        "fish.head()"
      ],
      "execution_count": null,
      "outputs": []
    },
    {
      "cell_type": "code",
      "metadata": {
        "id": "zp60tji790Mb"
      },
      "source": [
        "fish_input = fish[['Weight','Length','Diagonal','Height','Width']].to_numpy()\r\n",
        "print(fish_input)"
      ],
      "execution_count": null,
      "outputs": []
    },
    {
      "cell_type": "code",
      "metadata": {
        "id": "Tikx_tLE-Eyt"
      },
      "source": [
        "print(fish_inpu[0:5])"
      ],
      "execution_count": null,
      "outputs": []
    },
    {
      "cell_type": "code",
      "metadata": {
        "id": "Ixnes7oE-aFs"
      },
      "source": [
        "#타깃 데이터 만들기\r\n",
        "fish_target = fish['Species'].to_numpy()\r\n",
        "print(fish_target)"
      ],
      "execution_count": null,
      "outputs": []
    },
    {
      "cell_type": "code",
      "metadata": {
        "id": "dSWzf8n1BeM3"
      },
      "source": [
        "#훈련,테스트 데이터 표준화 전처리하기 (표준화 -> 데이터 뻥튀기)"
      ],
      "execution_count": null,
      "outputs": []
    },
    {
      "cell_type": "code",
      "metadata": {
        "id": "2BTySACfBhJ6"
      },
      "source": [
        "from sklearn.preprocessing import StandardScaler\r\n",
        "\r\n",
        "ss = StandardScaler()\r\n",
        "ss.fit(train_input)\r\n",
        "train_scaled = ss.transform(train_input)\r\n",
        "test_scaled = ss.transform(test_input)"
      ],
      "execution_count": null,
      "outputs": []
    },
    {
      "cell_type": "markdown",
      "metadata": {
        "id": "pmHDUCzz_vRf"
      },
      "source": [
        "데이터 가져왔고, \r\n",
        "\r\n",
        "필요한 특성만 훈련 데이터로 따로 빼뒀고,\r\n",
        "\r\n",
        " 타깃 데이터가 될 데이터만 따로 추려서 타깃 데이터 만들었다.\r\n",
        "\r\n",
        " k-최근접 이웃 분류 회귀"
      ]
    },
    {
      "cell_type": "markdown",
      "metadata": {
        "id": "iwnnzY7YAprP"
      },
      "source": [
        "가져온 데이터로 훈련 데이터 만들자."
      ]
    },
    {
      "cell_type": "markdown",
      "metadata": {
        "id": "z-sm9AgVC2Yw"
      },
      "source": [
        ""
      ]
    },
    {
      "cell_type": "code",
      "metadata": {
        "id": "ynSIzaREAkCk"
      },
      "source": [
        "from sklearn.model_selection import train_test_split\r\n",
        "train_input, test_input, train_target, test_target = train_test_split( fish_input, fish_target, random_state = 42)"
      ],
      "execution_count": null,
      "outputs": []
    },
    {
      "cell_type": "code",
      "metadata": {
        "id": "QEmCBkq4AofJ"
      },
      "source": [
        "from sklearn.neighbors import KNeighborsClassifier\r\n",
        "kn = KNeighborsClassifier(n_neighbors=3)\r\n",
        "kn.fit(train_scaled, train_target)\r\n",
        "print(kn.score(train_scaled, train_target))\r\n",
        "print(kn.score(test_scaled, test_target))\r\n"
      ],
      "execution_count": null,
      "outputs": []
    },
    {
      "cell_type": "code",
      "metadata": {
        "id": "Db8xWndn_2Xg"
      },
      "source": [
        "print(kn.classes_)"
      ],
      "execution_count": null,
      "outputs": []
    },
    {
      "cell_type": "code",
      "metadata": {
        "id": "mYBroyIJ_0yQ"
      },
      "source": [
        "print(kn.predict(test_scaled[:5]))"
      ],
      "execution_count": null,
      "outputs": []
    },
    {
      "cell_type": "code",
      "metadata": {
        "id": "8ulX4nij_x__"
      },
      "source": [
        "print(kn.predict(test_scaled[0:10]))"
      ],
      "execution_count": null,
      "outputs": []
    },
    {
      "cell_type": "code",
      "metadata": {
        "id": "Sg5rHkoFGqHZ"
      },
      "source": [
        "import numpy as np\r\n",
        "\r\n",
        "proba = kn.predict_proba(test_scaled[:5])\r\n",
        "print(proba)"
      ],
      "execution_count": null,
      "outputs": []
    },
    {
      "cell_type": "code",
      "metadata": {
        "id": "KJfxjLO5EDzB"
      },
      "source": [
        "dist , idx = kn.kneighbors(test_scaled[3:4])\r\n",
        "print(test_scaled)\r\n",
        "print(train_target[idx])"
      ],
      "execution_count": null,
      "outputs": []
    },
    {
      "cell_type": "markdown",
      "metadata": {
        "id": "lM21v6C4Hn5S"
      },
      "source": [
        "## 로지스틱 회귀\r\n",
        "\r\n",
        "회귀 알고리즘이지만 결국은 확률로 분류! 분류 문제다"
      ]
    },
    {
      "cell_type": "code",
      "metadata": {
        "id": "vUJFecODEcRE"
      },
      "source": [
        "#불리언 인덱싱\r\n",
        "\r\n",
        "char_arr = np.array(['A','B','C','D','E'])\r\n",
        "print(char_arr[[True, False, True, False, False]])"
      ],
      "execution_count": null,
      "outputs": []
    },
    {
      "cell_type": "code",
      "metadata": {
        "id": "4jEN4YQo1AHf"
      },
      "source": [
        "arr = np.array(['A','B','C','D','E'])\r\n",
        "arr_i = arr[[True,True,False,False,False]]\r\n",
        "print(arr_i)"
      ],
      "execution_count": null,
      "outputs": []
    },
    {
      "cell_type": "code",
      "metadata": {
        "id": "_tLzf_hn1mdK"
      },
      "source": [
        "#원하는 생성만 따로 뽑아서 훈련용 입력, 타깃 데이터 만들기\r\n",
        "bream_smelt_indexes = (train_target == 'Bream') | (train_target == 'Smelt')\r\n",
        "train_bream_smelt = train_scaled[bream_smelt_indexes]\r\n",
        "target_bream_smelt = train_target[bream_smelt_indexes]"
      ],
      "execution_count": null,
      "outputs": []
    },
    {
      "cell_type": "code",
      "metadata": {
        "id": "7nnNKvy53ZbG"
      },
      "source": [
        "#로지스틱 회귀 모델 훈련하기\r\n",
        "from sklearn.linear_model import LogisticRegression\r\n",
        "\r\n",
        "lr = LogisticRegression()\r\n",
        "lr.fit(train_bream_smelt, target_bream_smelt)"
      ],
      "execution_count": null,
      "outputs": []
    },
    {
      "cell_type": "code",
      "metadata": {
        "id": "6QlNPv8d3tl0"
      },
      "source": [
        "print(lr.predict(train_bream_smelt[0:5]))"
      ],
      "execution_count": null,
      "outputs": []
    },
    {
      "cell_type": "code",
      "metadata": {
        "id": "qz_aey1e4b11"
      },
      "source": [
        "lr.predict_proba(train_bream_smelt[:5])"
      ],
      "execution_count": null,
      "outputs": []
    },
    {
      "cell_type": "code",
      "metadata": {
        "id": "LcKh6NGX4kXR"
      },
      "source": [
        "lr.classes_"
      ],
      "execution_count": null,
      "outputs": []
    },
    {
      "cell_type": "code",
      "metadata": {
        "id": "iemDOX-s4tBt"
      },
      "source": [
        "print(lr.coef_, lr.intercept_)"
      ],
      "execution_count": null,
      "outputs": []
    },
    {
      "cell_type": "markdown",
      "metadata": {
        "id": "5_-mE5QH4-qf"
      },
      "source": [
        "특성( 무게 길이 등등해서)5개, 절편이 하나인가보다."
      ]
    },
    {
      "cell_type": "code",
      "metadata": {
        "id": "U0VknBBp4-ap"
      },
      "source": [
        "#결정계수로 결정함수 z를 구해보자\r\n",
        "decisions = lr.decision_function(train_bream_smelt[:5])\r\n",
        "print(decisions)"
      ],
      "execution_count": null,
      "outputs": []
    },
    {
      "cell_type": "code",
      "metadata": {
        "id": "L6NsDvov44uV"
      },
      "source": [
        "# 결정계수로는 뭘 할 수가 없다. -> 확률로 보자\r\n",
        "from scipy.special import expit\r\n",
        "print(expit(decisions))"
      ],
      "execution_count": null,
      "outputs": []
    },
    {
      "cell_type": "markdown",
      "metadata": {
        "id": "pGjqACZw79it"
      },
      "source": [
        "## 로지스틱 회귀로 다중 분류 수행하기"
      ]
    },
    {
      "cell_type": "code",
      "metadata": {
        "id": "6Ft0FFny6Fb0"
      },
      "source": [
        "lr = LogisticRegression(C= 20,max_iter = 1000)\r\n",
        "lr.fit(train_scaled, train_target)\r\n",
        "\r\n",
        "print(lr.score(train_scaled, train_target))\r\n",
        "print(lr.score(test_scaled, test_target))"
      ],
      "execution_count": null,
      "outputs": []
    },
    {
      "cell_type": "code",
      "metadata": {
        "id": "GLtkxbbO8AwN"
      },
      "source": [
        "# 앞에서 5번째 샘플에 대학 예측\r\n",
        "print(lr.predict(test_scaled[:5]))"
      ],
      "execution_count": null,
      "outputs": []
    },
    {
      "cell_type": "code",
      "metadata": {
        "id": "TehmOhDz9RPN"
      },
      "source": [
        "# 앞에서 5번째 샘플에 대한 확률\r\n",
        "proba = lr.predict_proba(test_scaled[:5])\r\n",
        "print(np.round(proba, decimals = 3))"
      ],
      "execution_count": null,
      "outputs": []
    },
    {
      "cell_type": "code",
      "metadata": {
        "id": "ucQcd2HA9uLT"
      },
      "source": [
        "# 위의 확률이 어떤 생선을 의미하는 걸까?\r\n",
        "print(lr.classes_)"
      ],
      "execution_count": null,
      "outputs": []
    },
    {
      "cell_type": "code",
      "metadata": {
        "id": "UIoL82Dz94fk"
      },
      "source": [
        "#계수와 절편 확인 5개의 가중치 + 절편으로 각 생선의 결정계수를 확정할 수 있다.\r\n",
        "print(lr.coef_, lr.intercept_)\r\n",
        "print(lr.coef_.shape, lr.intercept_.shape)"
      ],
      "execution_count": null,
      "outputs": []
    },
    {
      "cell_type": "markdown",
      "metadata": {
        "id": "VOsSr0naAS62"
      },
      "source": [
        "## 결정계수 -> softmax 함수를 통과시키면 -> 확률"
      ]
    },
    {
      "cell_type": "code",
      "metadata": {
        "id": "YaYNdUAh-DYr"
      },
      "source": [
        "decision = lr.decision_function(test_scaled[:5])\r\n",
        "print(np.round(decision, decimals =2))"
      ],
      "execution_count": null,
      "outputs": []
    },
    {
      "cell_type": "code",
      "metadata": {
        "id": "APDtVqfpAfLG"
      },
      "source": [
        "from scipy.special import softmax\r\n",
        "proba = softmax(decision, axis = 1)\r\n",
        "print(np.round(proba, decimals = 3))"
      ],
      "execution_count": null,
      "outputs": []
    },
    {
      "cell_type": "code",
      "metadata": {
        "id": "OYCg4CqeBNQ_"
      },
      "source": [
        ""
      ],
      "execution_count": null,
      "outputs": []
    }
  ]
}