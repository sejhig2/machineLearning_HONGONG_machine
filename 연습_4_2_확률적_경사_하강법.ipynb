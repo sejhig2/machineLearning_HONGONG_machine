{
  "nbformat": 4,
  "nbformat_minor": 0,
  "metadata": {
    "colab": {
      "name": "연습_4-2 확률적 경사 하강법.ipynb",
      "private_outputs": true,
      "provenance": [],
      "authorship_tag": "ABX9TyPv60C1BQpliB7XMvpfBMUE",
      "include_colab_link": true
    },
    "kernelspec": {
      "name": "python3",
      "display_name": "Python 3"
    }
  },
  "cells": [
    {
      "cell_type": "markdown",
      "metadata": {
        "id": "view-in-github",
        "colab_type": "text"
      },
      "source": [
        "<a href=\"https://colab.research.google.com/github/sejhig2/machineLearning_HONGONG_machine_propeller/blob/main/%EC%97%B0%EC%8A%B5_4_2_%ED%99%95%EB%A5%A0%EC%A0%81_%EA%B2%BD%EC%82%AC_%ED%95%98%EA%B0%95%EB%B2%95.ipynb\" target=\"_parent\"><img src=\"https://colab.research.google.com/assets/colab-badge.svg\" alt=\"Open In Colab\"/></a>"
      ]
    },
    {
      "cell_type": "markdown",
      "metadata": {
        "id": "2rvgLdt3Ro92"
      },
      "source": [
        "# SGDClassifier"
      ]
    },
    {
      "cell_type": "code",
      "metadata": {
        "id": "QgnVqrT1Q1sU"
      },
      "source": [
        "# 데이터를 판다스 dataframe으로\r\n",
        "import pandas as pd\r\n",
        "fish = pd.read_csv('https://bit.ly/fish_csv_data')"
      ],
      "execution_count": null,
      "outputs": []
    },
    {
      "cell_type": "code",
      "metadata": {
        "id": "fSsQfYB-SdBp"
      },
      "source": [
        "# 특성을 5개 가져와서 입력데이터로 만들어주자\r\n",
        "# 특성 중에 종류 가져와서 타깃 데이터로 만들어주자.\r\n",
        "fish_input = fish[['Weight','Length','Diagonal','Height','Width']].to_numpy()\r\n",
        "fish_target = fish[['Species']].to_numpy()"
      ],
      "execution_count": null,
      "outputs": []
    },
    {
      "cell_type": "code",
      "metadata": {
        "id": "pYGaBeHySwzr"
      },
      "source": [
        "from sklearn.model_selection import train_test_split\r\n",
        "\r\n",
        "train_input, test_input, train_target, test_target = train_test_split(fish_input, fish_target, random_state = 42)"
      ],
      "execution_count": null,
      "outputs": []
    },
    {
      "cell_type": "code",
      "metadata": {
        "id": "G5sewbTDTQzA"
      },
      "source": [
        "from sklearn.preprocessing import StandardScaler\r\n",
        "ss = StandardScaler()\r\n",
        "ss.fit(train_input)\r\n",
        "train_scaled = ss.transform(train_input)\r\n",
        "test_scaled = ss.transform(test_input)"
      ],
      "execution_count": null,
      "outputs": []
    },
    {
      "cell_type": "code",
      "metadata": {
        "id": "aGtvGPFXT5aq"
      },
      "source": [
        "from sklearn.linear_model import SGDClassifier"
      ],
      "execution_count": null,
      "outputs": []
    },
    {
      "cell_type": "code",
      "metadata": {
        "id": "p0PLOj9AT_ar"
      },
      "source": [
        "sc = SGDClassifier(loss ='log',max_iter=10,random_state=42)\r\n",
        "\r\n",
        "sc.fit(train_scaled, train_target)\r\n",
        "print(sc.score(train_scaled, train_target))\r\n",
        "print(sc.score(test_scaled, test_target))"
      ],
      "execution_count": null,
      "outputs": []
    },
    {
      "cell_type": "markdown",
      "metadata": {
        "id": "_xcRoULHVUVb"
      },
      "source": [
        "확률적 경사 하강법을 전짐적으로 추가로 훈련시키기"
      ]
    },
    {
      "cell_type": "code",
      "metadata": {
        "id": "r35sCceYUz4I"
      },
      "source": [
        "sc.partial_fit(train_scaled, train_target)\r\n",
        "print(sc.score(train_scaled, train_target))\r\n",
        "print(sc.score(test_scaled, test_target))"
      ],
      "execution_count": null,
      "outputs": []
    },
    {
      "cell_type": "code",
      "metadata": {
        "id": "SNz3leozVi42"
      },
      "source": [
        "sc.partial_fit(train_scaled, train_target)\r\n",
        "print(sc.score(train_scaled, train_target))\r\n",
        "print(sc.score(test_scaled, test_target))"
      ],
      "execution_count": null,
      "outputs": []
    },
    {
      "cell_type": "markdown",
      "metadata": {
        "id": "zUSKL5I8V9VO"
      },
      "source": [
        "partial_fit을 통해서 반복훈련하기\r\n",
        "\r\n",
        "반복 훈련을 통해서 score 확인\r\n"
      ]
    },
    {
      "cell_type": "code",
      "metadata": {
        "id": "VmKc84STVneB"
      },
      "source": [
        ""
      ],
      "execution_count": null,
      "outputs": []
    }
  ]
}