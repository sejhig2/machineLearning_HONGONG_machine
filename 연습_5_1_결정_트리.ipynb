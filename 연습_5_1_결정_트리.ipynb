{
  "nbformat": 4,
  "nbformat_minor": 0,
  "metadata": {
    "colab": {
      "name": "연습_5-1 결정 트리.ipynb",
      "private_outputs": true,
      "provenance": [],
      "collapsed_sections": [],
      "authorship_tag": "ABX9TyOhvQQhNtOh5ICMiG4CDK+Y",
      "include_colab_link": true
    },
    "kernelspec": {
      "name": "python3",
      "display_name": "Python 3"
    },
    "accelerator": "GPU"
  },
  "cells": [
    {
      "cell_type": "markdown",
      "metadata": {
        "id": "view-in-github",
        "colab_type": "text"
      },
      "source": [
        "<a href=\"https://colab.research.google.com/github/sejhig2/machineLearning_HONGONG_machine_propeller/blob/main/%EC%97%B0%EC%8A%B5_5_1_%EA%B2%B0%EC%A0%95_%ED%8A%B8%EB%A6%AC.ipynb\" target=\"_parent\"><img src=\"https://colab.research.google.com/assets/colab-badge.svg\" alt=\"Open In Colab\"/></a>"
      ]
    },
    {
      "cell_type": "code",
      "metadata": {
        "id": "Cz6NjaiROxuI"
      },
      "source": [
        "import pandas as pd\r\n",
        "\r\n",
        "wine = pd.read_csv('https://bit.ly/wine_csv_data')"
      ],
      "execution_count": null,
      "outputs": []
    },
    {
      "cell_type": "code",
      "metadata": {
        "id": "nevLUpn2O3nD"
      },
      "source": [
        "wine.head()"
      ],
      "execution_count": null,
      "outputs": []
    },
    {
      "cell_type": "code",
      "metadata": {
        "id": "nG2p0S2CO43e"
      },
      "source": [
        "wine.describe()"
      ],
      "execution_count": null,
      "outputs": []
    },
    {
      "cell_type": "code",
      "metadata": {
        "id": "hNLpxDK3O8Qt"
      },
      "source": [
        "data = wine[['alcohol','sugar','pH']].to_numpy()"
      ],
      "execution_count": null,
      "outputs": []
    },
    {
      "cell_type": "code",
      "metadata": {
        "id": "BUHROQqHPJUW"
      },
      "source": [
        "target = wine['class'].to_numpy()"
      ],
      "execution_count": null,
      "outputs": []
    },
    {
      "cell_type": "code",
      "metadata": {
        "id": "1fynE0CTPR5I"
      },
      "source": [
        "from sklearn.model_selection import train_test_split\r\n",
        "train_input, test_input, train_target, test_target = train_test_split(data, target, test_size= 0.2, random_state = 42)"
      ],
      "execution_count": null,
      "outputs": []
    },
    {
      "cell_type": "code",
      "metadata": {
        "id": "t4mIHgMvPaOl"
      },
      "source": [
        "print(train_input.shape, test_input.shape)"
      ],
      "execution_count": null,
      "outputs": []
    },
    {
      "cell_type": "code",
      "metadata": {
        "id": "BDxbcY3jPzkV"
      },
      "source": [
        "# 표준화 전처리"
      ],
      "execution_count": null,
      "outputs": []
    },
    {
      "cell_type": "code",
      "metadata": {
        "id": "TqeOadgXP4Iv"
      },
      "source": [
        "from sklearn.preprocessing import StandardScaler\r\n",
        "ss = StandardScaler()\r\n",
        "ss.fit(train_input)\r\n",
        "train_scaled = ss.transform(train_input)\r\n",
        "test_scaled = ss.transform(test_input)"
      ],
      "execution_count": null,
      "outputs": []
    },
    {
      "cell_type": "code",
      "metadata": {
        "id": "wfU-uvcNQMra"
      },
      "source": [
        "from sklearn.linear_model import LogisticRegression\r\n",
        "\r\n",
        "lr = LogisticRegression()\r\n",
        "lr.fit(train_scaled, train_target)\r\n",
        "\r\n",
        "print(lr.score(train_scaled, train_target))\r\n",
        "print(lr.score(test_scaled, test_target))"
      ],
      "execution_count": null,
      "outputs": []
    },
    {
      "cell_type": "code",
      "metadata": {
        "id": "WMlww0EiQpTk"
      },
      "source": [
        "#가중치, 절편 살펴보자"
      ],
      "execution_count": null,
      "outputs": []
    },
    {
      "cell_type": "code",
      "metadata": {
        "id": "f3GKmN17RBQg"
      },
      "source": [
        "print( lr.coef_, lr.intercept_)"
      ],
      "execution_count": null,
      "outputs": []
    },
    {
      "cell_type": "code",
      "metadata": {
        "id": "uBVJmC6fRErV"
      },
      "source": [
        "# 결정트리"
      ],
      "execution_count": null,
      "outputs": []
    },
    {
      "cell_type": "code",
      "metadata": {
        "id": "_VszxzdcRKd2"
      },
      "source": [
        "from sklearn.tree import DecisionTreeClassifier\r\n",
        "\r\n",
        "dt = DecisionTreeClassifier()\r\n",
        "dt.fit(train_scaled, train_target)\r\n",
        "\r\n",
        "print(dt.score(train_scaled, train_target))\r\n",
        "print(dt.score(test_scaled, test_target))"
      ],
      "execution_count": null,
      "outputs": []
    },
    {
      "cell_type": "code",
      "metadata": {
        "id": "ZuoH8nD2Rdev"
      },
      "source": [
        "import matplotlib.pyplot as plt\r\n",
        "from sklearn.tree import plot_tree\r\n",
        "\r\n",
        "plt.figure(figsize=(10,10))\r\n",
        "plot_tree(dt)\r\n",
        "plt.show()"
      ],
      "execution_count": null,
      "outputs": []
    },
    {
      "cell_type": "code",
      "metadata": {
        "id": "Ka4pUBRfRpfu"
      },
      "source": [
        "# 위에는 너무 깊다. 좀 줄여서 보도록 하자\r\n",
        "plt.figure(figsize=(10,10))\r\n",
        "plot_tree(dt, max_depth = 2, filled = True, feature_names = ['alcohol','sugar','pH'])\r\n",
        "plt.show()"
      ],
      "execution_count": null,
      "outputs": []
    },
    {
      "cell_type": "code",
      "metadata": {
        "id": "FH61qpSZR7D8"
      },
      "source": [
        "dt = DecisionTreeClassifier(max_depth = 3 )\r\n",
        "dt.fit(train_scaled, train_target)\r\n",
        "\r\n",
        "print(dt.score(train_scaled, train_target))\r\n",
        "print(dt.score(test_scaled, test_target))"
      ],
      "execution_count": null,
      "outputs": []
    },
    {
      "cell_type": "code",
      "metadata": {
        "id": "y8mm0a2MSdp3"
      },
      "source": [
        "# 깊이를 제한했더니 과적합이 잡힌 듯 하네.\r\n",
        "# decisiontree를 다시 그려보도록 하자\r\n",
        "plt.figure(figsize = (20,20))\r\n",
        "plot_tree(dt, filled = True, feature_names = ['alcohol','sugar','pH'])\r\n",
        "plt.show()"
      ],
      "execution_count": null,
      "outputs": []
    },
    {
      "cell_type": "code",
      "metadata": {
        "id": "Pxuq89MjSjk-"
      },
      "source": [
        "dt = DecisionTreeClassifier(max_depth = 3)\r\n",
        "dt.fit(train_input, train_target)\r\n",
        "\r\n",
        "print(dt.score(train_input, train_target))\r\n",
        "print(dt.score(test_input, test_target))"
      ],
      "execution_count": null,
      "outputs": []
    },
    {
      "cell_type": "code",
      "metadata": {
        "id": "jLcc-x2cTrK4"
      },
      "source": [
        "plt.figure(figsize= (20,20))\r\n",
        "plot_tree(dt, filled = True, feature_names=[\"alcohol\",'sugar','pH'])\r\n",
        "plt.show()"
      ],
      "execution_count": null,
      "outputs": []
    },
    {
      "cell_type": "code",
      "metadata": {
        "id": "K-tvMKzTUH1M"
      },
      "source": [
        "# 3가지 특성중에 어떤 특성이 가장 중요했으려나?"
      ],
      "execution_count": null,
      "outputs": []
    },
    {
      "cell_type": "code",
      "metadata": {
        "id": "j1r8sPdUUWzY"
      },
      "source": [
        "print(dt.feature_importances_)"
      ],
      "execution_count": null,
      "outputs": []
    },
    {
      "cell_type": "code",
      "metadata": {
        "id": "Qq4wNOtyUa04"
      },
      "source": [
        "dt = DecisionTreeClassifier(min_impurity_decrease= 3, random_state=42)\r\n",
        "dt.fit(train_input, train_target)\r\n",
        "print(dt.score(train_input,train_target))\r\n",
        "print(dt.score(test_input,test_target))\r\n",
        "\r\n",
        "# 결정트리를 그려보자\r\n",
        "plt.figure(figsize=(20,15),dpi=300)\r\n",
        "plot_tree(dt, filled=True, feature_names = ['alcohol','sugar','pH'])\r\n",
        "plt.show()"
      ],
      "execution_count": null,
      "outputs": []
    },
    {
      "cell_type": "code",
      "metadata": {
        "id": "1WVLHbrrWG0q"
      },
      "source": [
        ""
      ],
      "execution_count": null,
      "outputs": []
    }
  ]
}