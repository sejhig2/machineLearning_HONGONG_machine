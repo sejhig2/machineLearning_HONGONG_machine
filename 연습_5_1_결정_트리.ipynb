{
  "nbformat": 4,
  "nbformat_minor": 0,
  "metadata": {
    "colab": {
      "name": "연습_5-1 결정 트리.ipynb",
      "private_outputs": true,
      "provenance": [],
      "collapsed_sections": [],
      "authorship_tag": "ABX9TyO8WToLacEiZfwJ6SFA82qe",
      "include_colab_link": true
    },
    "kernelspec": {
      "name": "python3",
      "display_name": "Python 3"
    },
    "accelerator": "GPU"
  },
  "cells": [
    {
      "cell_type": "markdown",
      "metadata": {
        "id": "view-in-github",
        "colab_type": "text"
      },
      "source": [
        "<a href=\"https://colab.research.google.com/github/sejhig2/machineLearning_HONGONG_machine_propeller/blob/main/%EC%97%B0%EC%8A%B5_5_1_%EA%B2%B0%EC%A0%95_%ED%8A%B8%EB%A6%AC.ipynb\" target=\"_parent\"><img src=\"https://colab.research.google.com/assets/colab-badge.svg\" alt=\"Open In Colab\"/></a>"
      ]
    },
    {
      "cell_type": "markdown",
      "metadata": {
        "id": "xK9aRqQHC7zp"
      },
      "source": [
        "데이터 불러오기"
      ]
    },
    {
      "cell_type": "code",
      "metadata": {
        "id": "pC_aQ7h7C7om"
      },
      "source": [
        "import pandas as pd \r\n",
        "wine = pd.read_csv('https://bit.ly/wine_csv_data')\r\n",
        "wine.head()"
      ],
      "execution_count": null,
      "outputs": []
    },
    {
      "cell_type": "markdown",
      "metadata": {
        "id": "zdyAW_8nDMCT"
      },
      "source": [
        "info() : 각 열의 데이터 타입, 누락된 데이터가 있는지 확인 가능\r\n",
        "\r\n",
        ".describe() : 간략한 통계"
      ]
    },
    {
      "cell_type": "code",
      "metadata": {
        "id": "jAN2PbUNgmru"
      },
      "source": [
        "wine.info()"
      ],
      "execution_count": null,
      "outputs": []
    },
    {
      "cell_type": "code",
      "metadata": {
        "id": "yCU7SfykDUOi"
      },
      "source": [
        "wine.describe()"
      ],
      "execution_count": null,
      "outputs": []
    },
    {
      "cell_type": "markdown",
      "metadata": {
        "id": "1gdm3CA0DvYd"
      },
      "source": [
        "단위가 전부다 다른 도수, 당소, pH값. = > 표준화 전처리를 해주자"
      ]
    },
    {
      "cell_type": "code",
      "metadata": {
        "id": "fhiqBErADmzW"
      },
      "source": [
        "data = wine[['alcohol','sugar','pH']].to_numpy()\r\n",
        "target = wine[['class']].to_numpy()"
      ],
      "execution_count": null,
      "outputs": []
    },
    {
      "cell_type": "code",
      "metadata": {
        "id": "ui_-2WKRD_Xb"
      },
      "source": [
        "from sklearn.model_selection import train_test_split\r\n",
        "train_input, test_input , train_target, test_target = train_test_split(data,target,test_size =0.2 ,random_state= 42) "
      ],
      "execution_count": null,
      "outputs": []
    },
    {
      "cell_type": "code",
      "metadata": {
        "id": "3r2TzPgxEUEG"
      },
      "source": [
        "print(train_input.shape, test_input.shape)"
      ],
      "execution_count": null,
      "outputs": []
    },
    {
      "cell_type": "code",
      "metadata": {
        "id": "q-nIMXoUEVG7"
      },
      "source": [
        "from sklearn.preprocessing import StandardScaler\r\n",
        "ss = StandardScaler()\r\n",
        "ss.fit(train_input)\r\n",
        "\r\n",
        "train_scaled = ss.transform(train_input)\r\n",
        "test_scaled = ss.transform(test_input)"
      ],
      "execution_count": null,
      "outputs": []
    },
    {
      "cell_type": "code",
      "metadata": {
        "id": "Xi4Jre57EVJO"
      },
      "source": [
        "from sklearn.linear_model import LogisticRegression\r\n",
        "lr = LogisticRegression()\r\n",
        "lr.fit(train_scaled , train_target)\r\n",
        "print(lr.score(train_scaled, train_target),\"\\n\",lr.score(test_scaled, test_target))"
      ],
      "execution_count": null,
      "outputs": []
    },
    {
      "cell_type": "code",
      "metadata": {
        "id": "CX16vHFPEVLn"
      },
      "source": [
        "# 계수와 절편을 알아보자\r\n",
        "print(lr.coef_, lr.intercept_)"
      ],
      "execution_count": null,
      "outputs": []
    },
    {
      "cell_type": "markdown",
      "metadata": {
        "id": "CjVGeKrjF8oO"
      },
      "source": [
        "# 결정트리"
      ]
    },
    {
      "cell_type": "code",
      "metadata": {
        "id": "kCDoVNplEVN9"
      },
      "source": [
        "from sklearn.tree import DecisionTreeClassifier\r\n",
        "\r\n",
        "dtc = DecisionTreeClassifier( random_state = 42)\r\n",
        "dtc.fit(train_scaled, train_target)\r\n",
        "\r\n",
        "print(dtc.score(train_scaled, train_target))\r\n",
        "print(dtc.score(test_scaled, test_target))"
      ],
      "execution_count": null,
      "outputs": []
    },
    {
      "cell_type": "markdown",
      "metadata": {
        "id": "4lMyD8kRGPCK"
      },
      "source": [
        "이런 결과라면 걍 overfitting인데\r\n",
        "\r\n",
        "그래프로 그려서 나타내보자"
      ]
    },
    {
      "cell_type": "code",
      "metadata": {
        "id": "38JJt9LrEVQb"
      },
      "source": [
        "import matplotlib.pyplot as plt\r\n",
        "from sklearn.tree import plot_tree\r\n",
        "\r\n",
        "plt.figure(figsize = (10,7))\r\n",
        "plot_tree(dtc)\r\n",
        "plt.show()"
      ],
      "execution_count": null,
      "outputs": []
    },
    {
      "cell_type": "code",
      "metadata": {
        "id": "zXP1ME46HIdB"
      },
      "source": [
        "#너무 복잡하고 많아서 뭐가 뭔 그림인지 하나도 모르겠다. 깊이를 조절해보자\r\n",
        "plt.figure(figsize=(10,10))\r\n",
        "plot_tree(dtc, max_depth = 1, filled = True, feature_names = ['alcohol','sugar','pH'])\r\n",
        "plt.show()"
      ],
      "execution_count": null,
      "outputs": []
    },
    {
      "cell_type": "code",
      "metadata": {
        "id": "ZajPNW9zJT5D"
      },
      "source": [
        "dtc = DecisionTreeClassifier(max_depth=3, random_state=42)\r\n",
        "dtc.fit(train_input, train_target)\r\n",
        "\r\n",
        "print(dtc.score(train_input, train_target))\r\n",
        "print(dtc.score(test_input, test_target))"
      ],
      "execution_count": null,
      "outputs": []
    },
    {
      "cell_type": "code",
      "metadata": {
        "id": "l_khFd9lKrIp"
      },
      "source": [
        "plt.figure(figsize=(30,30))\r\n",
        "plot_tree(dtc, filled = True, feature_names=['alcohol','sugar','pH'])\r\n",
        "plt.show()"
      ],
      "execution_count": null,
      "outputs": []
    },
    {
      "cell_type": "code",
      "metadata": {
        "id": "kX8TEdtvLKQz"
      },
      "source": [
        "dtc = DecisionTreeClassifier(max_depth = 3 , random_state=42)\r\n",
        "dtc.fit(train_scaled, train_target)\r\n",
        "print(dtc.score(train_scaled , train_target))\r\n",
        "print(dtc.score(test_scaled,test_target))"
      ],
      "execution_count": null,
      "outputs": []
    },
    {
      "cell_type": "code",
      "metadata": {
        "id": "sD7SU-zKLyjT"
      },
      "source": [
        "plt.figure(figsize = (20,15))\r\n",
        "plot_tree(dtc, filled = True , feature_names=['alcohol','sugar','pH'])\r\n",
        "plt.show()"
      ],
      "execution_count": null,
      "outputs": []
    },
    {
      "cell_type": "code",
      "metadata": {
        "id": "kmyeB-jzMGem"
      },
      "source": [
        "print(dtc.feature_importances_)"
      ],
      "execution_count": null,
      "outputs": []
    },
    {
      "cell_type": "code",
      "metadata": {
        "id": "vblDPGCkMU_y"
      },
      "source": [
        ""
      ],
      "execution_count": null,
      "outputs": []
    }
  ]
}