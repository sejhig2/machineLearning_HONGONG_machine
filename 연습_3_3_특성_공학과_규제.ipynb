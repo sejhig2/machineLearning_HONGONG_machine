{
  "nbformat": 4,
  "nbformat_minor": 0,
  "metadata": {
    "colab": {
      "name": "연습_3-3 특성 공학과 규제.ipynb",
      "private_outputs": true,
      "provenance": [],
      "authorship_tag": "ABX9TyNxpvJVkX4hpvdSshfrYyRl",
      "include_colab_link": true
    },
    "kernelspec": {
      "name": "python3",
      "display_name": "Python 3"
    }
  },
  "cells": [
    {
      "cell_type": "markdown",
      "metadata": {
        "id": "view-in-github",
        "colab_type": "text"
      },
      "source": [
        "<a href=\"https://colab.research.google.com/github/sejhig2/machineLearning_HONGONG_machine/blob/main/%EC%97%B0%EC%8A%B5_3_3_%ED%8A%B9%EC%84%B1_%EA%B3%B5%ED%95%99%EA%B3%BC_%EA%B7%9C%EC%A0%9C.ipynb\" target=\"_parent\"><img src=\"https://colab.research.google.com/assets/colab-badge.svg\" alt=\"Open In Colab\"/></a>"
      ]
    },
    {
      "cell_type": "code",
      "metadata": {
        "id": "gvO8latZz6JE"
      },
      "source": [
        "import pandas as pd\r\n",
        "df = pd.read_csv('https://bit.ly/perch_csv')\r\n",
        "perch_full = df.to_numpy()\r\n",
        "print(perch_full)"
      ],
      "execution_count": null,
      "outputs": []
    },
    {
      "cell_type": "code",
      "metadata": {
        "id": "LOdRtg9U2QQ8"
      },
      "source": [
        "import numpy as np\r\n",
        "perch_weight = np.array([5.9, 32.0, 40.0, 51.5, 70.0, 100.0, 78.0, 80.0, 85.0, 85.0, \r\n",
        "     110.0, 115.0, 125.0, 130.0, 120.0, 120.0, 130.0, 135.0, 110.0, \r\n",
        "     130.0, 150.0, 145.0, 150.0, 170.0, 225.0, 145.0, 188.0, 180.0, \r\n",
        "     197.0, 218.0, 300.0, 260.0, 265.0, 250.0, 250.0, 300.0, 320.0, \r\n",
        "     514.0, 556.0, 840.0, 685.0, 700.0, 700.0, 690.0, 900.0, 650.0, \r\n",
        "     820.0, 850.0, 900.0, 1015.0, 820.0, 1100.0, 1000.0, 1100.0, \r\n",
        "     1000.0, 1000.0] ) "
      ],
      "execution_count": null,
      "outputs": []
    },
    {
      "cell_type": "code",
      "metadata": {
        "id": "9ZtqhbMH2_Nw"
      },
      "source": [
        "# perch_full , perch_weight -> for training, for test\r\n",
        "from sklearn.model_selection import train_test_split\r\n",
        "train_input, test_input, train_target, test_target = train_test_split( perch_full, perch_weight)"
      ],
      "execution_count": null,
      "outputs": []
    },
    {
      "cell_type": "code",
      "metadata": {
        "id": "t97pEAcj3YGO"
      },
      "source": [
        "# 특성 뻥튀기 하기 = tramsform\r\n",
        "from sklearn.preprocessing import PolynomialFeatures\r\n",
        "poly = PolynomialFeatures()\r\n",
        "poly.fit([[2,3]])\r\n",
        "print(poly.transform([[2,3]]))"
      ],
      "execution_count": null,
      "outputs": []
    },
    {
      "cell_type": "code",
      "metadata": {
        "id": "jXBX0usG4PI2"
      },
      "source": [
        "poly = PolynomialFeatures()\r\n",
        "poly.fit(train_input)\r\n",
        "train_poly = poly.transform(train_input)\r\n",
        "print(train_poly.shape)"
      ],
      "execution_count": null,
      "outputs": []
    },
    {
      "cell_type": "code",
      "metadata": {
        "id": "m-SVQRGA5F7t"
      },
      "source": [
        "poly.get_feature_names()"
      ],
      "execution_count": null,
      "outputs": []
    },
    {
      "cell_type": "code",
      "metadata": {
        "id": "j5ttW5245JJ2"
      },
      "source": [
        "print(train_poly)"
      ],
      "execution_count": null,
      "outputs": []
    },
    {
      "cell_type": "code",
      "metadata": {
        "id": "b4sWZ8A-5b2D"
      },
      "source": [
        "test_poly = poly.transform(test_input)\r\n",
        "# 기존에 있던 특성으로 특성 뻥튀기 transform 했으니 데이터는 모두 준비된 셈이네. 훈련을 시켜봐야겠구만?"
      ],
      "execution_count": null,
      "outputs": []
    },
    {
      "cell_type": "markdown",
      "metadata": {
        "id": "h-k7zb8q510C"
      },
      "source": [
        "<h2> 다중 회귀 모델 훈련하기"
      ]
    },
    {
      "cell_type": "code",
      "metadata": {
        "id": "lN0R9PyQ5pbg"
      },
      "source": [
        "from sklearn.linear_model import LinearRegression\r\n",
        "lr = LinearRegression()\r\n",
        "lr.fit(train_poly, train_target)\r\n",
        "print(lr.score(train_poly, train_target))"
      ],
      "execution_count": null,
      "outputs": []
    },
    {
      "cell_type": "markdown",
      "metadata": {
        "id": "JTZIV8Cn6R3E"
      },
      "source": [
        "결과가 너무 높은데? 아무래도 overfitting 날 것 같은데."
      ]
    },
    {
      "cell_type": "markdown",
      "metadata": {
        "id": "RFRNYPYs6rTI"
      },
      "source": [
        "<h3> 특성을 더 추가해보자"
      ]
    },
    {
      "cell_type": "code",
      "metadata": {
        "id": "2V24Z56s6EeY"
      },
      "source": [
        "poly = PolynomialFeatures(degree = 5)\r\n",
        "poly.fit(train_input)\r\n",
        "train_poly = poly.transform( train_input)\r\n",
        "test_poly = poly.transform(test_input)\r\n",
        "print(train_poly.shape)"
      ],
      "execution_count": null,
      "outputs": []
    },
    {
      "cell_type": "markdown",
      "metadata": {
        "id": "hbDhZdAy7Mwy"
      },
      "source": [
        "특성이 리얼 엄청 많이 생겼네 ;; "
      ]
    },
    {
      "cell_type": "code",
      "metadata": {
        "id": "g_rWckGL7Dg7"
      },
      "source": [
        "# 특성 뻥뻥뻥튀기한걸로 다시 훈련 시켜서 결정계수를 보자\r\n",
        "lr.fit(train_poly,train_target)\r\n",
        "print(lr.score(train_poly, train_target))"
      ],
      "execution_count": null,
      "outputs": []
    },
    {
      "cell_type": "code",
      "metadata": {
        "id": "StrPSBAQ7TBP"
      },
      "source": [
        "print(lr.score(test_poly, test_target))"
      ],
      "execution_count": null,
      "outputs": []
    },
    {
      "cell_type": "markdown",
      "metadata": {
        "id": "3_JMfbMG8e4S"
      },
      "source": [
        "혹시나 is 역시나\r\n",
        "\r\n",
        "회사에서 이랬다가는 사장님한테 하이킥 맞겠네\r\n"
      ]
    },
    {
      "cell_type": "code",
      "metadata": {
        "id": "IgtZx3RM8g8q"
      },
      "source": [
        "from sklearn.preprocessing import StandardScaler\r\n",
        "ss = StandardScaler()\r\n",
        "ss.fit(train_poly)\r\n",
        "\r\n",
        "train_scaled = ss.transform(train_poly)\r\n",
        "test_scaled = ss.transform(test_poly)"
      ],
      "execution_count": null,
      "outputs": []
    },
    {
      "cell_type": "markdown",
      "metadata": {
        "id": "nInNAQbXFbvH"
      },
      "source": [
        "특성 뻥튀기 transform -> 너무 많이 뻥튀기 -> overfitting -> 규제 필요 -> 규제도구 릿지나 라쏘 "
      ]
    },
    {
      "cell_type": "code",
      "metadata": {
        "id": "6C2KbGfLFh27"
      },
      "source": [
        "from sklearn.linear_model import Ridge\r\n",
        "ridge = Ridge()\r\n",
        "ridge.fit(train_scaled, train_target)\r\n",
        "print(ridge.score(train_scaled, train_target))\r\n"
      ],
      "execution_count": null,
      "outputs": []
    },
    {
      "cell_type": "code",
      "metadata": {
        "id": "NGsK2WxyF3zr"
      },
      "source": [
        "print(ridge.score(test_scaled, test_target))"
      ],
      "execution_count": null,
      "outputs": []
    },
    {
      "cell_type": "code",
      "metadata": {
        "id": "gxMj64MCGQqV"
      },
      "source": [
        "import matplotlib.pyplot as plt\r\n",
        "train_score = []\r\n",
        "test_score = []"
      ],
      "execution_count": null,
      "outputs": []
    },
    {
      "cell_type": "code",
      "metadata": {
        "id": "2ZW3JLJrHO_q"
      },
      "source": [
        "alpha_list = [0.001, 0.01, 0.1, 1, 10, 100]\r\n",
        "for alpha in alpha_list:\r\n",
        "    # 릿지 모델을 만듭니다\r\n",
        "    ridge = Ridge(alpha=alpha)\r\n",
        "    # 릿지 모델을 훈련합니다\r\n",
        "    ridge.fit(train_scaled, train_target)\r\n",
        "    # 훈련 점수와 테스트 점수를 저장합니다\r\n",
        "    train_score.append(ridge.score(train_scaled, train_target))\r\n",
        "    test_score.append(ridge.score(test_scaled, test_target))"
      ],
      "execution_count": null,
      "outputs": []
    },
    {
      "cell_type": "code",
      "metadata": {
        "id": "_R59EK4bHzm4"
      },
      "source": [
        "plt.plot(np.log10(alpha_list), train_score)\r\n",
        "plt.plot(np.log10(alpha_list), test_score)\r\n",
        "plt.xlabel('alpha')\r\n",
        "plt.ylabel('R^2')\r\n",
        "plt.show()"
      ],
      "execution_count": null,
      "outputs": []
    },
    {
      "cell_type": "code",
      "metadata": {
        "id": "FQ0gOyrsH_Q1"
      },
      "source": [
        ""
      ],
      "execution_count": null,
      "outputs": []
    }
  ]
}